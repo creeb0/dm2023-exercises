{
 "cells": [
  {
   "cell_type": "markdown",
   "metadata": {},
   "source": [
    "# Week 1 - Normalization and data types\n",
    "\n",
    "This first week is going to be a warm-up week where we conider different statistical tools data types.\n",
    "\n",
    "Lets first import the libraries that we are going to need."
   ]
  },
  {
   "cell_type": "code",
   "execution_count": 102,
   "metadata": {},
   "outputs": [],
   "source": [
    "%matplotlib inline\n",
    "import matplotlib.pyplot as plt\n",
    "import numpy as np\n",
    "import scipy.stats\n",
    "import scipy as sp"
   ]
  },
  {
   "cell_type": "markdown",
   "metadata": {},
   "source": [
    "## Exercise 1: Sample statistics and normalization\n",
    "\n",
    "Let $X$ and $Y$ be two normal distributions of discrete variables with ($\\mu_X=25,\\sigma_X=5$) and ($\\mu_Y=60,\\sigma_Y=10$) that describe the *Age* and the *Weight* of a population. From $X$ and $Y$ sample the *Age* and the *Weight* of $n=500000$ individuals."
   ]
  },
  {
   "cell_type": "code",
   "execution_count": 103,
   "metadata": {},
   "outputs": [],
   "source": [
    "import numpy as np\n",
    "np.random.seed(1)\n",
    "# TODO: use np.random.normal to initialize X and Y and round() function for discretization of the data\n",
    "X = np.random.normal(25,5,500000)\n",
    "Y = np.random.normal(60,10,500000)\n",
    "X = X.round()\n",
    "Y=Y.round()"
   ]
  },
  {
   "cell_type": "markdown",
   "metadata": {},
   "source": [
    "**a)** Find the mean, the median and the mode for $X,Y$. "
   ]
  },
  {
   "cell_type": "code",
   "execution_count": 104,
   "metadata": {},
   "outputs": [
    {
     "name": "stdout",
     "output_type": "stream",
     "text": [
      "Mean: 25.005264\n",
      "Median: 25.0\n",
      "Mode: 25.0\n",
      "\n",
      "Mean: 60.002704\n",
      "Median: 60.0\n",
      "Mode: 60.0\n"
     ]
    }
   ],
   "source": [
    "def count_dictionary(X):\n",
    "    \"\"\"\n",
    "    Input: certain list of data   \n",
    "    Output: counts of list elements as a dictionary \n",
    "    Example: Input: [0,1,0,2,3,2,2] => Output: {0:2, 1:1, 2:3, 3:1}\n",
    "    \"\"\"\n",
    "    # TODO: the calculation process of counts\n",
    "    # We need counts also for later when we are computing the empirical PMF\n",
    "    count={}\n",
    "    for i in X:\n",
    "        if i not in count:\n",
    "            count[i]=1\n",
    "        else:\n",
    "            count[i]+=1\n",
    "    return count\n",
    "\n",
    "def compute_mean(X):\n",
    "    \"\"\"\n",
    "    Input: certain list of data   \n",
    "    Output: mean of this list   \n",
    "    \"\"\"\n",
    "    # TODO: the calculation process of mean\n",
    "    return sum(X)/len(X)\n",
    "\n",
    "def compute_median(X):\n",
    "    \"\"\"\n",
    "    Input: certain list of data   \n",
    "    Output: median of this list\n",
    "    Tip:Note: If the number of data values is odd, returns the exact middle value. \n",
    "    If the number of data values is even, returns the average of the two middle values.   \n",
    "    \"\"\"\n",
    "    # TODO: the calculation process of median\n",
    "    if len(X) % 2 == 1:\n",
    "        median=sorted(X)[int(len(X)//2)]\n",
    "    else:\n",
    "        median=(sorted(X)[len(X)//2]+sorted(X)[len(X)//2-1])/2\n",
    "    return median\n",
    "def compute_mode(X):\n",
    "    \"\"\"\n",
    "    Input: certain list of data   \n",
    "    Output: element with highest frequency \n",
    "    Hint: You can use function count_dictionary   \n",
    "    \"\"\"\n",
    "    # TODO: the calculation process of mode  \n",
    "    count=count_dictionary(X)\n",
    "    mode=max(count, key=count.get)\n",
    "    return mode\n",
    "\n",
    "\n",
    "x_mean = compute_mean(X)\n",
    "x_median = compute_median(X)\n",
    "x_mode = compute_mode(X)\n",
    "\n",
    "print(f\"Mean: {x_mean}\\nMedian: {x_median}\\nMode: {x_mode}\\n\" )\n",
    "\n",
    "y_mean = compute_mean(Y)\n",
    "y_median = compute_median(Y)\n",
    "y_mode = compute_mode(Y)\n",
    "\n",
    "print(f\"Mean: {y_mean}\\nMedian: {y_median}\\nMode: {y_mode}\" )"
   ]
  },
  {
   "cell_type": "markdown",
   "metadata": {},
   "source": [
    "**b)** Using the sampled data of a) find their:\\\n",
    "i) Probability Mass Function, ii) Expected Value and iii) Variance.  "
   ]
  },
  {
   "cell_type": "code",
   "execution_count": 105,
   "metadata": {},
   "outputs": [
    {
     "name": "stdout",
     "output_type": "stream",
     "text": [
      "\n",
      "For X:\n",
      "Expected Value of X is 25.005264000000004\n",
      "Variance of X is 25.050060290304\n",
      "\n",
      "For Y:\n",
      "Expected Value of Y is 60.002703999999994\n",
      "Variance of Y is 99.99015668838402\n"
     ]
    }
   ],
   "source": [
    "# In order to make our life a lot easier, we will compute the probability of each element\n",
    "# Because that will be useful for the next couple of tasks\n",
    "# NOTE: We can reuse the dictionary from earlier (Task A)\n",
    "\n",
    "\n",
    "def compute_pmf(X):\n",
    "    \"\"\"\n",
    "    Input: certain list of data   \n",
    "    Output: pmf as a dictionary \n",
    "    Example: Input: [0,1,0,2,3,2,2] => Output: {0:2/7, 1:1/7, 2:3/7, 3:1/7}\n",
    "    Hint: you can use count_dictionary function from a)\n",
    "    \"\"\"\n",
    "    # TODO: return pmf of X\n",
    "    count=count_dictionary(X)\n",
    "    for val in count:\n",
    "        count[val] = count[val]/len(X)\n",
    "    return count\n",
    "\n",
    "def compute_ev(X):\n",
    "    \"\"\"\n",
    "    Input: certain list of data   \n",
    "    Output: expected value of X \n",
    "    Hint: you can use compute_pmf function \n",
    "    μ = Σx * P(x) \n",
    "    \"\"\"\n",
    "    # TODO: return the expected value of X\n",
    "    pmf = compute_pmf(X)\n",
    "    expected_value = 0\n",
    "    for val, prob in pmf.items():\n",
    "        expected_value += val * prob\n",
    "    return expected_value\n",
    "\n",
    "def compute_variance(X):  \n",
    "    \"\"\"\n",
    "    Input: certain list of data   \n",
    "    Output: variance of X \n",
    "    Hint: you can use compute_pmf and compute_ev functions\n",
    "    \n",
    "    \"\"\"\n",
    "    \n",
    "    # TODO: return the variance of X\n",
    "    pmf = compute_pmf(X)\n",
    "    ev = compute_ev(X)\n",
    "    variance = 0\n",
    "    for val, prob in pmf.items():\n",
    "        variance += prob * ((val - ev)**2)\n",
    "    return variance\n",
    "\n",
    "\n",
    "    \n",
    "print(\"\\nFor X:\")\n",
    "x_pmf = compute_pmf(X)\n",
    "x_ev = compute_ev(X)\n",
    "print(f'Expected Value of X is {x_ev}')\n",
    "x_variance = compute_variance(X)\n",
    "print(f'Variance of X is {x_variance}')\n",
    "\n",
    "print(\"\\nFor Y:\")\n",
    "y_pmf = compute_pmf(Y)\n",
    "y_ev = compute_ev(Y)\n",
    "print(f'Expected Value of Y is {y_ev}')\n",
    "y_variance = compute_variance(Y)\n",
    "print(f'Variance of Y is {y_variance}')\n"
   ]
  },
  {
   "cell_type": "markdown",
   "metadata": {},
   "source": [
    "**c)** Suppose the only information we had is the sampled data $X$ and $Y$ for the *Age* and *Weight* respectively. Plot the distributions of $X$ and $Y$ and consider if the data seem to fit a normal distribution.  "
   ]
  },
  {
   "cell_type": "code",
   "execution_count": 34,
   "metadata": {},
   "outputs": [
    {
     "data": {
      "image/png": "[encoded data removed]",
      "text/plain": [
       "<Figure size 640x480 with 1 Axes>"
      ]
     },
     "metadata": {},
     "output_type": "display_data"
    }
   ],
   "source": [
    "import scipy.stats as stats\n",
    "# TODO: use plt.hist() and bins = len(np.unique()) in order to visualize the distribution\n",
    "n,x,_ = plt.hist(X, bins = len(np.unique(X)), density=True)\n",
    "bin_centers = 0.5*(x[1:]+x[:-1])\n",
    "plt.plot(bin_centers, n, color = 'red', label = 'Age')\n",
    "\n",
    "n,x,_ = plt.hist(Y, bins = len(np.unique(Y)), density=True)\n",
    "bin_centers = 0.5*(x[1:]+x[:-1])\n",
    "plt.plot(bin_centers,n, color = 'green', label = 'Weight')\n",
    "\n",
    "plt.legend()\n",
    "plt.show()"
   ]
  },
  {
   "cell_type": "markdown",
   "metadata": {},
   "source": [
    "**d)** What is the probability of observing an age of 80 or higher?  "
   ]
  },
  {
   "cell_type": "markdown",
   "metadata": {},
   "source": [
    "HINT: To calculate the probability we have to use the probability density function of normal distribution for $X$, in range $[80,\\infty)$. Calculate the sample PDF and the expected PDF given that the distribution is normal with ($\\mu_Y=60,\\sigma_Y=10$). How close are these two values?\n",
    "\n",
    "**Answer**"
   ]
  },
  {
   "cell_type": "code",
   "execution_count": 111,
   "metadata": {},
   "outputs": [
    {
     "name": "stdout",
     "output_type": "stream",
     "text": [
      "Sampled PDF is 0.02016\n",
      "Expected PDF is 0.022759418529548325\n",
      "0.022759418529548325\n",
      "0.0025994185295483245\n"
     ]
    }
   ],
   "source": [
    " # TODO: find the probability that age is >80 (PDF), then find the expected PDF of the normal distribution (μ=60,σ=10) and compare the results\n",
    "Y_greater_80 = Y[Y>80]\n",
    "pdf = (len(Y_greater_80)/len(Y))\n",
    "print(f'Sampled PDF is {pdf}')\n",
    "#to get any range ex {80-X}\n",
    "y1 = scipy.stats.norm(y_mean, y_variance**(1/2)).cdf(float('inf'))\n",
    "y2 = scipy.stats.norm(y_mean, y_variance**(1/2)).cdf(80)\n",
    "epdf = y1-y2\n",
    "print(f'Expected PDF is {epdf}')\n",
    "#to get 80-inf\n",
    "print(1-scipy.stats.norm(y_mean, y_variance**(1/2)).cdf(80))\n",
    "print(np.abs(pdf-epdf))"
   ]
  },
  {
   "cell_type": "markdown",
   "metadata": {},
   "source": [
    "**e)** Find the 2-dimensional mean $\\hat \\mu$ and the covariance matrix $\\widehat \\Sigma$ for these two variables.  "
   ]
  },
  {
   "cell_type": "code",
   "execution_count": 107,
   "metadata": {},
   "outputs": [
    {
     "name": "stdout",
     "output_type": "stream",
     "text": [
      "Mean:\n",
      " [[25.005264 60.002704]]\n",
      "Cov: \n",
      " [[ 2.50500603e+01 -5.56962339e-02]\n",
      " [-5.56962339e-02  9.99901567e+01]]\n"
     ]
    }
   ],
   "source": [
    "# TODO: Compute 2-Dimensional mean is the vector (E[X], E[Y])\n",
    "Z = np.c_[X, Y]\n",
    "n, d = Z.shape\n",
    "mu = np.mean(Z, axis=0, keepdims=True)\n",
    "cov = (Z - mu).T @ (Z - mu)/n\n",
    "\n",
    "# TODO: The diagonal of the Covariance matrix must equal the initial covariance values of X and Y. Check your results.\n",
    "print(\"Mean:\\n\", mu)\n",
    "print(\"Cov: \\n\", cov)\n"
   ]
  },
  {
   "cell_type": "markdown",
   "metadata": {},
   "source": [
    "**f)** Normalize the data with _range normalization_ to the range $[0, 1]$  "
   ]
  },
  {
   "cell_type": "markdown",
   "metadata": {},
   "source": [
    "**range normalization**:\n",
    "\n",
    "$x_i^{'} = \\frac{x_i-\\min_i{x_i}}{\\max_i{x_i} - \\min_i{x_i}}$"
   ]
  },
  {
   "cell_type": "code",
   "execution_count": 8,
   "metadata": {},
   "outputs": [
    {
     "name": "stdout",
     "output_type": "stream",
     "text": [
      "Range normalized: \n",
      " [[0.67391304 0.56666667]\n",
      " [0.43478261 0.27777778]\n",
      " [0.43478261 0.43333333]\n",
      " ...\n",
      " [0.56521739 0.42222222]\n",
      " [0.32608696 0.62222222]\n",
      " [0.56521739 0.52222222]]\n"
     ]
    }
   ],
   "source": [
    "# TODO: Compute the range normalization: (x_i - min)/(max - min)\n",
    "min_z = Z.min(0, keepdims=True)\n",
    "max_z = Z.max(0, keepdims=True)\n",
    "Z_normalize = (Z - min_z) / (max_z - min_z)\n",
    "print(\"Range normalized: \\n\", Z_normalize)"
   ]
  },
  {
   "cell_type": "markdown",
   "metadata": {},
   "source": [
    "**g)** Normalize the data with _standard score normalization_ such that is has mean 0 and standard deviation 1.  "
   ]
  },
  {
   "cell_type": "markdown",
   "metadata": {},
   "source": [
    "**z-score**:\n",
    "\n",
    "$x_i^{'} = \\frac{x_i-\\hat{\\mu}}{\\hat{\\sigma}}$"
   ]
  },
  {
   "cell_type": "code",
   "execution_count": 71,
   "metadata": {},
   "outputs": [
    {
     "name": "stdout",
     "output_type": "stream",
     "text": [
      "-1.283844142108137e-16 1.0\n",
      "-7.653255806872039e-17 1.0\n"
     ]
    }
   ],
   "source": [
    "# TODO: #  Compute the standard score normalization:, x_i = (x_i - mu)/(sigma)\n",
    "X_ssn = [(x - x_mean)/np.sqrt(x_variance) for x in X]\n",
    "# Cheating and computing mean of Y with Numpy\n",
    "Y_ssn = [(y - np.mean(Y))/np.sqrt(y_variance) for y in Y]\n",
    "print(np.mean(Y_ssn), np.std(Y_ssn))\n",
    "print(np.mean(X_ssn), np.std(X_ssn))"
   ]
  },
  {
   "cell_type": "markdown",
   "metadata": {},
   "source": [
    "## Exercise 2: Robustness\n",
    "Determine whether the following statements are true or false and explain why.\n",
    " - Mean is robust against outliers\n",
    " - Median is robust against outliers\n",
    " - Standard deviation is robust against outliers\n"
   ]
  },
  {
   "attachments": {},
   "cell_type": "markdown",
   "metadata": {},
   "source": [
    "**Answer:**\n",
    "\n",
    "\n",
    "\n",
    " - Mean is robust against outliers \n",
    " \n",
    "      **False**: We say that a statistic is robust if it is not affected by extreme values (such as outliers) in the data. The sample mean is unfortunately not robust because a single large value (an outlier) can skew the average.\n",
    " \n",
    " <em>Data Mining and Analysis Page 47</em>\n",
    " - Median is robust against outliers\n",
    " \n",
    "      *True：* It is not affected by extreme values\n",
    "\n",
    "- Standard deviation is robust against outliers\n",
    "\n",
    "    **False**: Standard deviation $\\sigma = \\sqrt\\frac{\\sum(x_i-\\mu)^2}{N}$, it could influenced by each $x_i$ \n",
    "      "
   ]
  },
  {
   "cell_type": "markdown",
   "metadata": {},
   "source": [
    "## Exercise 3: More on robustness\n",
    "Provide an informal definition of when a measure is robust. "
   ]
  },
  {
   "attachments": {},
   "cell_type": "markdown",
   "metadata": {},
   "source": [
    "**Answer:**\n",
    "\n",
    "It is not affected by extreme values"
   ]
  },
  {
   "cell_type": "markdown",
   "metadata": {},
   "source": [
    "## Exercise 4: Independence analysis\n",
    "Please explain what the idea of independence analysis is using contingency tables; for which kind of data is this particularly relevant? \n"
   ]
  },
  {
   "attachments": {},
   "cell_type": "markdown",
   "metadata": {},
   "source": [
    "**Answer:**\n",
    "\n",
    "Determine if two categorical variables are independent or if they are in fact related to one another. If two categorical variables are independent, then the value of one variable does not change the probability distribution of the other. If two categorical variables are related, then the distribution of one depends on the level the other. This test measures the differences in the observed conditional distribution of one variable across levels of the other, and compares it to the marginal (overall) distribution of that variable.\n"
   ]
  },
  {
   "attachments": {},
   "cell_type": "markdown",
   "metadata": {},
   "source": [
    "## Exercise 5: Contingency table and $\\chi^2$ statistics\n",
    "In the table below,  assuming that $X_1$ is discretized into three bins, as follows: $[-2, -0.5]$, $[-0.5, 0.5]$, and $[0.5, 2]$.\n",
    "\n",
    "![Table 3.11](graphics/3.11.png)\n",
    "\n",
    "Answer the following questions\n",
    "\n",
    "**a)** Construct the contingency table between the discretized $X_1$ and $X_2$ attributes, including the row and column counts.<br>\n",
    "**b)** Construct the expected table between the discretized $X_1$ and $X_2$ attributes.<br>\n",
    "**c)** Compute the $\\chi^2$ statistic between them.<br>\n",
    "**d)** Determine whether they are dependent or not at the 5% significance level. Use the $\\chi^2$ critical values from Table 3.10.\n",
    "\n",
    "![Table 3.10](graphics/3.10.png)"
   ]
  },
  {
   "attachments": {},
   "cell_type": "markdown",
   "metadata": {},
   "source": [
    "**Answer:**\n",
    "**a)**\n"
   ]
  },
  {
   "cell_type": "code",
   "execution_count": 109,
   "metadata": {},
   "outputs": [
    {
     "name": "stdout",
     "output_type": "stream",
     "text": [
      "X1: [1, 1, 1, 0, 1, 2, 1, 0, 2, 0]\n",
      "X2: [0, 1, 0, 0, 0, 1, 0, 1, 1, 0]\n",
      "Our table before row counts: [[2, 1], [4, 1], [0, 2]]\n"
     ]
    }
   ],
   "source": [
    "\n",
    "X_1 = [0.3, -0.3, 0.44, -0.60, 0.40, 1.20, -0.12, -1.60, 1.60, -1.32]\n",
    "X_2 = [\"a\", \"b\", \"a\", \"a\", \"a\", \"b\", \"a\", \"b\", \"b\", \"a\"]\n",
    "# For sanity's sake, use code to bin X_1\n",
    "# Converting everything to numbers allow us to index in them for easier computation\n",
    "X_tmp = []\n",
    "for x in X_1:\n",
    "    if x >= -2 and x <= -0.5:\n",
    "        X_tmp.append(0)\n",
    "    elif x >= -0.5 and x <= 0.5:\n",
    "            X_tmp.append(1)\n",
    "    elif x > 0.5:\n",
    "            X_tmp.append(2)\n",
    "X_1 = X_tmp\n",
    "X_2 = [0 if x == \"a\" else 1 for x in X_2]\n",
    "print(f\"X1: {X_1}\")\n",
    "print(f\"X2: {X_2}\")    \n",
    "\n",
    "# Our table looks like\n",
    "## Bins: a b\n",
    "## bin1\n",
    "## bin2\n",
    "## bin3\n",
    "b1_row = [0, 0]\n",
    "b2_row = [0, 0]\n",
    "b3_row = [0, 0]\n",
    "count_row = [0, 0, 0] # THIS ONE is for column counts\n",
    "c_table = [b1_row, b2_row, b3_row]\n",
    "# TODO: Compute contingency table c_table \n",
    "\n",
    "for i in range(len(X_1)):\n",
    "    x1_index = X_1[i]\n",
    "    x2_index = X_2[i]\n",
    "    c_table[x1_index][x2_index] += 1\n",
    "\n",
    "\n",
    "\n",
    "\n",
    "\n",
    "print(f\"Our table before row counts: {c_table}\")   "
   ]
  },
  {
   "attachments": {},
   "cell_type": "markdown",
   "metadata": {},
   "source": [
    "Table: Contingency table\n",
    "\n",
    "|  | [-2,-0.5] | [-0.5,0.5] | [0.5, 2] |row counts|\n",
    "|---|-----------|------------|----------|----|\n",
    "| a | 2         |4          |0      | 6  |\n",
    "| b | 1         |1          |2         | 4  |\n",
    "| column counts  | 3         | 5          | 2        | 10 |"
   ]
  },
  {
   "attachments": {},
   "cell_type": "markdown",
   "metadata": {},
   "source": [
    "\n",
    "\n",
    "**Answer:**\n",
    "**b)**"
   ]
  },
  {
   "cell_type": "code",
   "execution_count": 18,
   "metadata": {},
   "outputs": [
    {
     "name": "stdout",
     "output_type": "stream",
     "text": [
      "The expected table is: [[1.8, 1.2], [3.0, 2.0], [1.2, 0.8]]\n"
     ]
    }
   ],
   "source": [
    "# Now add row counts\n",
    "# Remember these are reference variables, so modifying these\n",
    "# will also modify our table\n",
    "\n",
    "# TODO: Compute expected table\n",
    "E = [[0, 0] for _ in range(3)]\n",
    "b1_row.append(sum(b1_row))\n",
    "b2_row.append(sum(b2_row))\n",
    "b3_row.append(sum(b3_row))\n",
    "c_table.append([b1_row[i] + b2_row[i] + b3_row[i] for i in range(3)])\n",
    "\n",
    "\"\"\"\n",
    "print(f\"Our contingency table:\")\n",
    "print(\".......a, b, counts\")\n",
    "print(f\"bin1: {b1_row}\")\n",
    "print(f\"bin2: {b2_row}\")\n",
    "print(f\"bin3: {b3_row}\")\n",
    "print(f\"count: {c_table[3]}\")\n",
    "\"\"\"\n",
    "\n",
    "# Construct matrix of e_{i,j} needed for Chi^2\n",
    "E = [[0, 0] for _ in range(3)]\n",
    "for i in range(3):\n",
    "    for j in range(2):\n",
    "        E[i][j] = (c_table[i][2] * c_table[3][j])/(len(X_1))\n",
    "        \n",
    "\n",
    "\n",
    "print(f\"The expected table is: {E}\")"
   ]
  },
  {
   "attachments": {},
   "cell_type": "markdown",
   "metadata": {},
   "source": [
    "**Answer:**\n",
    "**c)**\n",
    "|  | [-2,-0.5] | [-0.5,0.5] | [0.5, 2] |row counts|\n",
    "|---|-----------|------------|----------|----|\n",
    "| a | 1.8         |3          |1.2       | 6  |\n",
    "| b | 1.2         |2          |0.8         | 4  |\n",
    "| column counts  | 3         | 5          | 2        | 10 |\n"
   ]
  },
  {
   "cell_type": "code",
   "execution_count": 19,
   "metadata": {},
   "outputs": [
    {
     "name": "stdout",
     "output_type": "stream",
     "text": [
      "Chi_squared is: 0\n",
      "Chi_squared is: 3.8888888888888884\n"
     ]
    }
   ],
   "source": [
    "# TODO: Compute Chi_squared\n",
    "Chi_squared = 0\n",
    "print(f\"Chi_squared is: {Chi_squared}\")\n",
    "for i in range(3):\n",
    "    for j in range(2):\n",
    "        Chi_squared += ((c_table[i][j]-E[i][j])**2)/(E[i][j])\n",
    "print(f\"Chi_squared is: {Chi_squared}\")\n",
    "\n"
   ]
  },
  {
   "attachments": {},
   "cell_type": "markdown",
   "metadata": {},
   "source": [
    "**Answer:**\n",
    "**d)**\n",
    "\n",
    "null hypothesis $H_0$, $X_1$ and $X_2$ are independent\n",
    "\n",
    "**Chi-square**\n",
    "\n",
    "$X^2 = \\sum_{i_1}^{m_1}\\sum_{j_1}^{m_2} \\frac{(n_{ij}-e_{ij})^2}{e_{ij}}$\n",
    "\n",
    "$X^2 = 0.022+0.333+0+0.333+0.5+1.8 = 3.886$\n",
    "\n",
    "**degree of freedom**\n",
    "\n",
    "$q = (2-1)*(3-1) = 2$\n",
    "\n",
    "**cirtical value** by table $= 5.991$\n",
    "\n",
    "$X^2 \\le 5.991 $ it accept the null hypothesis"
   ]
  },
  {
   "cell_type": "markdown",
   "metadata": {},
   "source": [
    "## Exercise 6: Working with Metrics\n",
    "\n",
    "Consider the following situation: \n",
    "\n",
    "We know some distances between data points: $d(p_1,p_2)=1$, $d(p_1,p_3)=2$, $d(p_3, p_4)=1$. \n",
    "We also know that $d$ is a metric. \n",
    "\n",
    "1. What do we know about the remaining distances?\n",
    "2. Do we need to compute further distances if we want to find the two points that are most similar to $p_1$? \n",
    "3. Can $p_4$ be closer to $p_2$ than $p_3$ is to $p_2$?\n",
    "\n",
    "\n",
    "\n",
    "\n"
   ]
  },
  {
   "attachments": {},
   "cell_type": "markdown",
   "metadata": {},
   "source": [
    "**Answers:**\n",
    "\n",
    "    1. dist(x,z)  ≤ dist(x, y) + dist(y, z)\n",
    "A1. $d(p_1,p_4)\\leq d(p_1,p_3)+d(p_3,p_4)$ ->$d(p_1,p_4)\\leq 3$\\\n",
    "$d(p_1,p_4)\\leq d(p_1,p_2)+d(p_2,p_4)$ ->$d(p_1,p_4)\\leq 1+d(p_2,p_4)$\\\n",
    "$d(p_2,p_3)\\leq d(p_2,p_1)+d(p_1,p_3) $->$d(p_2,p_3)\\leq 3$\\\n",
    "$d(p_2,p_4)\\leq d(p_2,p_1)+d(p_1,p_4)\\leq d(p_1,p_2)+d(p_1,p_3)+d(p_3,p_4)$->$d(p_1,p_2)+d(p_1,p_4)\\leq 4$\\\n",
    "\n",
    "\n",
    "$2.$\n",
    "Yes, since $p_4$ can be closer to $p_1$ than $p_3$ but also the opposite scenario\n",
    " \n",
    "\n",
    "$3.$\n",
    "Yes $p_4$ can be equal to $p_2$."
   ]
  },
  {
   "cell_type": "markdown",
   "metadata": {},
   "source": [
    "# Optional Exercises\n",
    "\n",
    "## Exercise 7: Mean absolute deviation \n",
    "Define a measure of deviation called _mean absolute deviation_ for a random variable $X$ as follows:\n",
    "\n",
    "$$\n",
    "\\frac{1}{n} \\sum_{i=1}^n |x_i - \\mu|\n",
    "$$\n",
    "\n",
    "Is this measure robust? Why or why not?"
   ]
  },
  {
   "attachments": {},
   "cell_type": "markdown",
   "metadata": {},
   "source": [
    "**Answer:**\n",
    "\n",
    "It is not robust, as a single outlier can skew the mean absolute deviation. (Similar to mean and variance)"
   ]
  },
  {
   "cell_type": "markdown",
   "metadata": {},
   "source": [
    "## Exercise 8: Correlation\n",
    "\n",
    "Consider the table below. Assume that both the attributes $X$ and $Y$ are numeric, and the\n",
    "table represents the entire population. And we know that the correlation between $X$\n",
    "and $Y$ is zero.\n",
    "1. What can you infer about the values of $Y$? (Find a relationship between $a$, $b$ and $c$)\n",
    "2. If we know there is a missing row, what can we infer about it?\n",
    "\n",
    "|$X$ | $Y$ |\n",
    "|:---:|:---:|\n",
    "|$1$|$a$|\n",
    "|$0$|$b$|\n",
    "|$1$|$c$|\n",
    "|$0$|$a$|\n",
    "|$0$|$c$|"
   ]
  },
  {
   "attachments": {},
   "cell_type": "markdown",
   "metadata": {},
   "source": [
    "**Answer**\n",
    "\n",
    "    1. since it is independent, we have\n",
    "\n",
    "$E[XY] = E[X]E[Y]$\n",
    "\n",
    "and\n",
    "\n",
    "$E[XY] = \\frac{a+c}{5}$\n",
    "\n",
    "$E[X] = \\frac{2}{5}$\n",
    "\n",
    "$E[Y] = \\frac{2a+b+2c}{5}$\n",
    "\n",
    "We have $\\frac{a+c}{5}=\\frac{2}{5}\\cdot\\frac{2a+b+2c}{5}$\n",
    "\n",
    "solve this we got, $2b=a+c$\n",
    "\n",
    "\n",
    "\n",
    "    2.\n",
    "|  | 1 | 0 |\n",
    "|-----|---|---|\n",
    "| a   | 1 | 1 |\n",
    "| b   | - | 1 |\n",
    "| c   | 1 | 1 |\n",
    "\n",
    "from the contigency table we could figure $[1,b]$ are now empty and could add one more line.\n"
   ]
  },
  {
   "attachments": {},
   "cell_type": "markdown",
   "metadata": {},
   "source": [
    "# Exercise 9: 3-way contingency table\n",
    "\n",
    "Consider the 3-way contingency table for attributes $X$,$Y$,$Z$ shown in the table below.\n",
    "Compute the $\\chi^2$ metric for the correlation between $Y$ and $Z$. Are they dependent\n",
    "or independent at the 95% confidence level? See Table 3.10 above for $\\chi^2$ values.\n",
    "\n",
    "![Table 3.9](./graphics/3.9.png)"
   ]
  },
  {
   "cell_type": "code",
   "execution_count": 101,
   "metadata": {},
   "outputs": [
    {
     "name": "stdout",
     "output_type": "stream",
     "text": [
      "0.957264957264956\n",
      "Chi2ContingencyResult(statistic=0.6515384615384604, pvalue=0.4195631759021463, dof=1, expected_freq=array([[37.14285714, 27.85714286],\n",
      "       [42.85714286, 32.14285714]]))\n"
     ]
    }
   ],
   "source": [
    "import scipy.stats.contingency\n",
    "from scipy.stats import chi2_contingency\n",
    "# TODO: Compute contingency using chi2_contingency\n",
    "xy = np.array([[40,25],[40,35]])\n",
    "chi=chi2_contingency(xy)\n",
    "chi2 = np.sum((xy - chi[3])**2/chi[3])\n",
    "print(chi2)\n",
    "#print(x)"
   ]
  },
  {
   "attachments": {},
   "cell_type": "markdown",
   "metadata": {},
   "source": [
    "We obtain $\\chi^2 = 0.957$. With one degree of freedom, we have $\\chi^2$ being at left of the $1-0.95=0.05$ critical $\\chi^2$. Thus we cannot reject the null hypothesis, and we concludethat the two variables are independent."
   ]
  },
  {
   "cell_type": "markdown",
   "metadata": {},
   "source": [
    "# Exercise 10: Mixed data\n",
    "\n",
    "Consider the \"mixed\" data given in the table below. Here $X_1$ is a numeric attribute and\n",
    "$X_2$ is a categorical one. Assume that the domain of $X_2$ is given as $dom(X_2) = \\{a, b\\}$.\n",
    "Answer the following questions.\n",
    "\n",
    "**a)** What is the mean vector for this dataset?  \n",
    "**b)** What is the covariance matrix?  \n",
    "\n",
    "![Table 3.11](graphics/3.11.png)\n",
    "\n"
   ]
  },
  {
   "cell_type": "code",
   "execution_count": 75,
   "metadata": {},
   "outputs": [
    {
     "name": "stdout",
     "output_type": "stream",
     "text": [
      "mean vector:\n",
      " [0.144 0.6   0.4  ]\n"
     ]
    }
   ],
   "source": [
    "fine = np.array([[0.3,1,0],[-0.3,0,1],[0.44,1,0],[-0.6,1,0],[0.4,1,0],[1.2,0,1],[-0.12,1,0],[-0.16,0,1],[1.6,0,1],[-1.32,1,0]])\n",
    "# TODO: compute the mean vector\n",
    "mu = np.mean(fine, axis=0)\n",
    "print(\"mean vector:\\n\", mu)"
   ]
  },
  {
   "cell_type": "code",
   "execution_count": 85,
   "metadata": {},
   "outputs": [
    {
     "name": "stdout",
     "output_type": "stream",
     "text": [
      "Cov: [[ 0.71873778 -0.196       0.196     ]\n",
      " [-0.196       0.26666667 -0.26666667]\n",
      " [ 0.196      -0.26666667  0.26666667]]\n",
      "Cov1: [[ 0.71873778 -0.196       0.196     ]\n",
      " [-0.196       0.26666667 -0.26666667]\n",
      " [ 0.196      -0.26666667  0.26666667]]\n"
     ]
    }
   ],
   "source": [
    "import numpy as np\n",
    "n, d = fine.shape\n",
    "# TODO: compute the covariance matrix\n",
    "cov = (fine - mu).T @ (fine - mu)/(n-1)\n",
    "print(f\"Cov: {cov}\")\n",
    "#print(f\"Cov1: {np.cov(fine.T)}\")"
   ]
  }
 ],
 "metadata": {
  "kernelspec": {
   "display_name": "Python 3",
   "language": "python",
   "name": "python3"
  },
  "language_info": {
   "codemirror_mode": {
    "name": "ipython",
    "version": 3
   },
   "file_extension": ".py",
   "mimetype": "text/x-python",
   "name": "python",
   "nbconvert_exporter": "python",
   "pygments_lexer": "ipython3",
   "version": "3.10.9 (tags/v3.10.9:1dd9be6, Dec  6 2022, 20:01:21) [MSC v.1934 64 bit (AMD64)]"
  },
  "vscode": {
   "interpreter": {
    "hash": "80c6980e3f02e16e7aee110d1bf85cdb98492d897883fc820eec5f24d661294b"
   }
  }
 },
 "nbformat": 4,
 "nbformat_minor": 4
}
