{
 "cells": [
  {
   "cell_type": "markdown",
   "metadata": {},
   "source": [
    "# Data Mining - Handin 2 - Graph mining\n",
    "\n",
    "This handin corresponds to the topics in Week 10-15 in the course.\n",
    "\n",
    "The handin is \n",
    "* done in the chosen handin groups\n",
    "* worth 10% of the grade\n",
    "\n",
    "For the handin, you will prepare a report in PDF format, by exporting the Jupyter notebook. \n",
    "Please submit\n",
    "1. The jupyter notebook file with your answers\n",
    "2. The PDF obtained by exporting the jupyter notebook\n",
    "\n",
    "Submit both files on Brightspace no later than **April 21 kl. 11.59PM**.\n",
    "\n",
    "**The grading system**: Tasks are assigned a number of points based on the difficulty and time to solve it. The sum of\n",
    "the number of points is **100**. For the maximum grade you need to get at least _80 points_. The minimum grade (02 in the Danish scale)\n",
    "requires **at least** 30 points, with at least 8 points on of the first three Parts (Part 1,2,3) and 6 points in the last part (Part 4).\n",
    "Good luck!\n",
    "\n",
    "**The exercise types**: There are three different types of exercises\n",
    "1. <span style='color: green'>**\\[Compute by hand\\]**</span> means that you should provide **NO code**, but show the main steps to reach the result (not all).  \n",
    "2. <span style='color: green'>**\\[Motivate\\]**</span> means to provide a short answer of 1-2 lines indicating the main reasoning, e.g., the PageRank of a complete graph is 1/n in all nodes as all nodes are symmetric and are connected one another.\n",
    "3. <span style='color: green'>**\\[Describe\\]**</span> means to provide a potentially longer answer of 1-5 lines indicating the analysis of the data and the results. \n",
    "4. <span style='color: green'>**\\[Prove\\]**</span> means to provide a formal argument and NO code. \n",
    "5. <span style='color: green'>**\\[Implement\\]**</span> means to provide an implementation. Unless otherwise specified, you are allowed to use helper functions (e.g., ```np.mean```, ```itertools.combinations```, and so on). However, if the task is to implement an algorithm, by no means a call to a library that implements the same algorithm will be deemed as sufficient! "
   ]
  },
  {
   "cell_type": "code",
   "execution_count": 9,
   "metadata": {},
   "outputs": [
    {
     "ename": "ImportError",
     "evalue": "cannot import name 'TypeAlias' from 'typing_extensions' (/opt/anaconda3/lib/python3.8/site-packages/typing_extensions.py)",
     "output_type": "error",
     "traceback": [
      "\u001b[0;31m---------------------------------------------------------------------------\u001b[0m",
      "\u001b[0;31mImportError\u001b[0m                               Traceback (most recent call last)",
      "\u001b[0;32m<ipython-input-9-dd8686dda449>\u001b[0m in \u001b[0;36m<module>\u001b[0;34m\u001b[0m\n\u001b[1;32m     20\u001b[0m \u001b[0;34m\u001b[0m\u001b[0m\n\u001b[1;32m     21\u001b[0m \u001b[0;34m\u001b[0m\u001b[0m\n\u001b[0;32m---> 22\u001b[0;31m \u001b[0;32mimport\u001b[0m \u001b[0mtorch\u001b[0m\u001b[0;34m\u001b[0m\u001b[0;34m\u001b[0m\u001b[0m\n\u001b[0m\u001b[1;32m     23\u001b[0m \u001b[0;32mimport\u001b[0m \u001b[0mtorch\u001b[0m\u001b[0;34m.\u001b[0m\u001b[0moptim\u001b[0m\u001b[0;34m\u001b[0m\u001b[0;34m\u001b[0m\u001b[0m\n\u001b[1;32m     24\u001b[0m \u001b[0;32mimport\u001b[0m \u001b[0mtorch\u001b[0m\u001b[0;34m.\u001b[0m\u001b[0mnn\u001b[0m \u001b[0;32mas\u001b[0m \u001b[0mnn\u001b[0m\u001b[0;34m\u001b[0m\u001b[0;34m\u001b[0m\u001b[0m\n",
      "\u001b[0;32m/opt/anaconda3/lib/python3.8/site-packages/torch/__init__.py\u001b[0m in \u001b[0;36m<module>\u001b[0;34m\u001b[0m\n\u001b[1;32m   1120\u001b[0m \u001b[0;31m# If you edit these imports, please update torch/__init__.py.in as well\u001b[0m\u001b[0;34m\u001b[0m\u001b[0;34m\u001b[0m\u001b[0;34m\u001b[0m\u001b[0m\n\u001b[1;32m   1121\u001b[0m \u001b[0;32mfrom\u001b[0m \u001b[0;34m.\u001b[0m\u001b[0mrandom\u001b[0m \u001b[0;32mimport\u001b[0m \u001b[0mset_rng_state\u001b[0m\u001b[0;34m,\u001b[0m \u001b[0mget_rng_state\u001b[0m\u001b[0;34m,\u001b[0m \u001b[0mmanual_seed\u001b[0m\u001b[0;34m,\u001b[0m \u001b[0minitial_seed\u001b[0m\u001b[0;34m,\u001b[0m \u001b[0mseed\u001b[0m\u001b[0;34m\u001b[0m\u001b[0;34m\u001b[0m\u001b[0m\n\u001b[0;32m-> 1122\u001b[0;31m \u001b[0;32mfrom\u001b[0m \u001b[0;34m.\u001b[0m\u001b[0mserialization\u001b[0m \u001b[0;32mimport\u001b[0m \u001b[0msave\u001b[0m\u001b[0;34m,\u001b[0m \u001b[0mload\u001b[0m\u001b[0;34m\u001b[0m\u001b[0;34m\u001b[0m\u001b[0m\n\u001b[0m\u001b[1;32m   1123\u001b[0m \u001b[0;32mfrom\u001b[0m \u001b[0;34m.\u001b[0m\u001b[0m_tensor_str\u001b[0m \u001b[0;32mimport\u001b[0m \u001b[0mset_printoptions\u001b[0m\u001b[0;34m\u001b[0m\u001b[0;34m\u001b[0m\u001b[0m\n\u001b[1;32m   1124\u001b[0m \u001b[0;34m\u001b[0m\u001b[0m\n",
      "\u001b[0;32m/opt/anaconda3/lib/python3.8/site-packages/torch/serialization.py\u001b[0m in \u001b[0;36m<module>\u001b[0;34m\u001b[0m\n\u001b[1;32m     15\u001b[0m \u001b[0;32mfrom\u001b[0m \u001b[0mtorch\u001b[0m\u001b[0;34m.\u001b[0m\u001b[0mstorage\u001b[0m \u001b[0;32mimport\u001b[0m \u001b[0m_get_dtype_from_pickle_storage_type\u001b[0m\u001b[0;34m\u001b[0m\u001b[0;34m\u001b[0m\u001b[0m\n\u001b[1;32m     16\u001b[0m \u001b[0;32mfrom\u001b[0m \u001b[0mtyping\u001b[0m \u001b[0;32mimport\u001b[0m \u001b[0mAny\u001b[0m\u001b[0;34m,\u001b[0m \u001b[0mBinaryIO\u001b[0m\u001b[0;34m,\u001b[0m \u001b[0mCallable\u001b[0m\u001b[0;34m,\u001b[0m \u001b[0mcast\u001b[0m\u001b[0;34m,\u001b[0m \u001b[0mDict\u001b[0m\u001b[0;34m,\u001b[0m \u001b[0mOptional\u001b[0m\u001b[0;34m,\u001b[0m \u001b[0mType\u001b[0m\u001b[0;34m,\u001b[0m \u001b[0mTuple\u001b[0m\u001b[0;34m,\u001b[0m \u001b[0mUnion\u001b[0m\u001b[0;34m,\u001b[0m \u001b[0mIO\u001b[0m\u001b[0;34m\u001b[0m\u001b[0;34m\u001b[0m\u001b[0m\n\u001b[0;32m---> 17\u001b[0;31m \u001b[0;32mfrom\u001b[0m \u001b[0mtyping_extensions\u001b[0m \u001b[0;32mimport\u001b[0m \u001b[0mTypeAlias\u001b[0m  \u001b[0;31m# Python 3.10+\u001b[0m\u001b[0;34m\u001b[0m\u001b[0;34m\u001b[0m\u001b[0m\n\u001b[0m\u001b[1;32m     18\u001b[0m \u001b[0;32mimport\u001b[0m \u001b[0mcopyreg\u001b[0m\u001b[0;34m\u001b[0m\u001b[0;34m\u001b[0m\u001b[0m\n\u001b[1;32m     19\u001b[0m \u001b[0;32mimport\u001b[0m \u001b[0mpickle\u001b[0m\u001b[0;34m\u001b[0m\u001b[0;34m\u001b[0m\u001b[0m\n",
      "\u001b[0;31mImportError\u001b[0m: cannot import name 'TypeAlias' from 'typing_extensions' (/opt/anaconda3/lib/python3.8/site-packages/typing_extensions.py)"
     ]
    }
   ],
   "source": [
    "### BEGIN IMPORTS - DO NOT TOUCH!\n",
    "import os\n",
    "os.environ[\"KMP_DUPLICATE_LIB_OK\"]=\"TRUE\"\n",
    "import sys\n",
    "sys.path.append('..')\n",
    "#!{sys.executable} -m pip install matplotlib\n",
    "#!{sys.executable} -m pip install networkx\n",
    "#!{sys.executable} -m pip install torchvision\n",
    "import random\n",
    "import scipy.io as sio\n",
    "import time\n",
    "\n",
    "import networkx as nx\n",
    "import numpy as np\n",
    "%matplotlib inline\n",
    "import matplotlib.pyplot as plt\n",
    "\n",
    "import csv\n",
    "from itertools import count\n",
    "\n",
    "\n",
    "import torch\n",
    "import torch.optim\n",
    "import torch.nn as nn\n",
    "import torch.nn.functional as F\n",
    "import torchvision\n",
    "import torchvision.transforms as transforms\n",
    "\n",
    "\n",
    "from utilities.load_data import load_mnist\n",
    "import utilities.email as email\n",
    "from utilities.mnist import *\n",
    "\n",
    "from utilities.make_graphs import read_edge_list, read_list, load_data\n",
    "\n",
    "### END IMPORTS - DO NOT TOUCH!"
   ]
  },
  {
   "cell_type": "markdown",
   "metadata": {},
   "source": [
    "## Task 1.1 Random walks and PageRank  (12 points)\n",
    "\n",
    "In this exercise recall that the PageRank is defined as \n",
    "\n",
    "$$\\mathbf{r} = \\alpha \\mathbf{Mr} + (1-\\alpha)\\mathbf{p}$$ \n",
    "\n",
    "where $\\mathbf{r}\\in \\mathbb{R}^n$ is the PageRank vector, $\\alpha$ is the restart probability, $\\mathbf{M} = A\\Delta^{-1}$, and $\\mathbf{p}$ is the restart (or personalization) vector. "
   ]
  },
  {
   "cell_type": "markdown",
   "metadata": {},
   "source": [
    "**************************************\n",
    "### Task 1.1.1 (4 points)\n",
    "What is the PageRank of a **$d$-regular** graph with $n$ nodes and $\\alpha=1$? \n",
    "\n",
    "<span style='color: green'>**\\[Motivate\\]**</span> your answer without showing the exact computation. "
   ]
  },
  {
   "cell_type": "markdown",
   "metadata": {},
   "source": [
    "*************************************\n",
    "PageRank is the importance of the given node. It is obtained by doing a random walk of the graph and seeing how often it takes us to the given node. This is how each get's assigned a value. The value depends on the weight of the incoming nodes through increasing the probability because we are more likely to end up in a well connected node. By definition d-regular graph each node has d connections. \n",
    "\n",
    "The other parameter alpha affects the so called teleport. If the random walk get stuck in a spider trap we would jump to a random node. Here it is not possible to jump since alpha in 1.\n",
    "\n",
    "All the nodes are equally important so the PageRank of one node is d.\n",
    "*************************************"
   ]
  },
  {
   "cell_type": "markdown",
   "metadata": {},
   "source": [
    "### Task 1.1.2 (6 points)\n",
    "Look at the graph below (run the code) and try make a guess about the PageRank values of each node only by reasoning on the graph's connections."
   ]
  },
  {
   "cell_type": "code",
   "execution_count": 13,
   "metadata": {},
   "outputs": [
    {
     "data": {
      "image/png": "[encoded data removed]",
      "text/plain": [
       "<Figure size 432x288 with 1 Axes>"
      ]
     },
     "metadata": {},
     "output_type": "display_data"
    }
   ],
   "source": [
    "G = nx.Graph()\n",
    "G.add_edges_from([(1,2),(2,3), (2,4), (3,4), (1,3)])\n",
    "nx.draw(G, with_labels=True, )"
   ]
  },
  {
   "cell_type": "markdown",
   "metadata": {},
   "source": [
    "<span style='color: green'>**A) \\[Implement\\]**</span> the PageRank for $\\alpha=1$ for the graph using the Power Iteration method (use $\\epsilon=1e-16$ to stop the iteration).<br> \n",
    "\n",
    "<span style='color: green'>**B) \\[Implement\\]**</span> Plot the norm square difference of the $r$ vector (between any two consecutive iterations) for each iteration.\n",
    "\n",
    "<span style='color: green'>**C) \\[Motivate\\]**</span> Do you observe a constant decrease of the norm square difference as iterations are increasing, and is this decrease expected or not?\n",
    "\n",
    "<span style='color: green'>**D) \\[Implement\\]**</span> the PageRank for $\\alpha=1$ using the eigenvector method.<br> \n",
    "\n",
    "<span style='color: green'>**E) \\[Motivate\\]**</span> Are solutions of both methods the same? Why don't we only use the eigenvector method that optimally solves the problem? \n",
    "\n",
    "<span style='color: green'>**F) \\[Motivate\\]**</span> Do the real vector match with your first guess? Can you see a pattern between the pagerank score of each node and its edges?   "
   ]
  },
  {
   "cell_type": "code",
   "execution_count": 18,
   "metadata": {},
   "outputs": [
    {
     "name": "stdout",
     "output_type": "stream",
     "text": [
      "PageRank of node 1 is 0.250000\n",
      "PageRank of node 2 is 0.250000\n",
      "PageRank of node 3 is 0.250000\n",
      "PageRank of node 4 is 0.250000\n"
     ]
    }
   ],
   "source": [
    "#A) YOUR CODE HERE \n",
    "\n",
    "import networkx as nx\n",
    "import numpy as np\n",
    "\n",
    "adj_matrix = nx.to_numpy_matrix(G)\n",
    "degree_matrix = np.diag(np.asarray(adj_matrix.sum(axis=1)).flatten())\n",
    "stochastic_matrix = np.matmul(np.linalg.inv(degree_matrix), adj_matrix)\n",
    "\n",
    "n = G.number_of_nodes()\n",
    "pagerank = np.ones((n,1)) / n\n",
    "tol = 1e-16\n",
    "\n",
    "while True:\n",
    "    new_pagerank = np.matmul(stochastic_matrix, pagerank)\n",
    "    if np.linalg.norm(new_pagerank - pagerank, ord=1) < tol:\n",
    "        break\n",
    "    pagerank = new_pagerank\n",
    "\n",
    "for i, pr in enumerate(pagerank):\n",
    "    print(f\"PageRank of node {i+1} is {pr[0]:.6f}\")"
   ]
  },
  {
   "cell_type": "code",
   "execution_count": 23,
   "metadata": {},
   "outputs": [
    {
     "data": {
      "image/png": "[encoded data removed]",
      "text/plain": [
       "<Figure size 432x288 with 1 Axes>"
      ]
     },
     "metadata": {
      "needs_background": "light"
     },
     "output_type": "display_data"
    },
    {
     "name": "stdout",
     "output_type": "stream",
     "text": [
      "PageRank of node 1 is 0.250000\n",
      "PageRank of node 2 is 0.250000\n",
      "PageRank of node 3 is 0.250000\n",
      "PageRank of node 4 is 0.250000\n"
     ]
    }
   ],
   "source": [
    "#B) YOUR CODE HERE \n",
    "import numpy as np\n",
    "import networkx as nx\n",
    "import matplotlib.pyplot as plt\n",
    "\n",
    "adj_matrix = nx.to_numpy_matrix(G)\n",
    "degree_matrix = np.diag(np.asarray(adj_matrix.sum(axis=1)).flatten())\n",
    "stochastic_matrix = np.matmul(np.linalg.inv(degree_matrix), adj_matrix)\n",
    "\n",
    "n = G.number_of_nodes()\n",
    "pagerank = np.ones((n,1)) / n\n",
    "tol = 1e-16\n",
    "\n",
    "norm_diff_list = []\n",
    "norm_diff = np.linalg.norm(pagerank - pagerank, ord=2) ** 2\n",
    "if norm_diff < tol:\n",
    "    norm_diff_list.append(epsilon)\n",
    "\n",
    "while True:\n",
    "    new_pagerank = np.matmul(stochastic_matrix, pagerank)\n",
    "    norm_diff = np.linalg.norm(new_pagerank - pagerank, ord=2) ** 2\n",
    "    norm_diff_list.append(norm_diff)\n",
    "    if norm_diff < tol:\n",
    "        break\n",
    "    pagerank = new_pagerank\n",
    "    \n",
    "plt.plot(norm_diff_list)\n",
    "plt.xlabel('Iteration')\n",
    "plt.ylabel('Norm Square Difference')\n",
    "plt.show()\n",
    "\n",
    "for i, pr in enumerate(pagerank):\n",
    "    print(f\"PageRank of node {i+1} is {pr[0]:.6f}\")"
   ]
  },
  {
   "cell_type": "markdown",
   "metadata": {},
   "source": [
    "<span style=\"color:red\"> C) The decrease is constant. This decrease is expected as the number of iterations increase as the power iteration method has been designed such that it converges to the PageRank vector. As the program approaches this vector, the norm square difference between each iteration is expected to decrease. </span>\n"
   ]
  },
  {
   "cell_type": "code",
   "execution_count": 24,
   "metadata": {},
   "outputs": [
    {
     "name": "stdout",
     "output_type": "stream",
     "text": [
      "[0.2 0.3 0.3 0.2]\n"
     ]
    }
   ],
   "source": [
    "#D) YOUR CODE HERE\n",
    "\n",
    "def my_pagerank_eigenvector(G, alpha=1):\n",
    "    A = nx.adjacency_matrix(G).toarray()\n",
    "    n = len(G.nodes())\n",
    "\n",
    "    d = np.sum(A, axis=1)\n",
    "    M = A / d[:, np.newaxis]\n",
    "    M = np.nan_to_num(M)\n",
    "\n",
    "    I = np.identity(n)\n",
    "    v = np.ones(n) / n\n",
    "    M_hat = alpha * M + (1 - alpha) * np.ones((n,n)) / n\n",
    "    w, v = np.linalg.eig(M_hat.T)\n",
    "    idx = np.argmax(w)\n",
    "    pagerank = v[:,idx].real\n",
    "    pagerank /= sum(pagerank)\n",
    "\n",
    "    return pagerank\n",
    "\n",
    "pagerank = my_pagerank_eigenvector(G)\n",
    "print(pagerank)"
   ]
  },
  {
   "cell_type": "markdown",
   "metadata": {},
   "source": [
    "<span style=\"color:red\"> E) The solutions are not the same. The power iteration method is faster and takes up less memory space compared to the eigenvector, hence is better for larger graphs.  </span>"
   ]
  },
  {
   "cell_type": "markdown",
   "metadata": {},
   "source": [
    "<span style=\"color:red\"> F) Yes it does. I had guessed a higher pagerank for node 2 & 3 as they have 3 edges connected to each of them compared to 1 & 4 which have two edges connected to each of them. The higher the pagerank score, the greater the number of edges a node has. </span>"
   ]
  },
  {
   "cell_type": "markdown",
   "metadata": {},
   "source": [
    "### Task 1.1.3 (2 points)\n",
    "\n",
    "<span style='color: green'>**\\[Motivate\\]**</span><br>\n",
    "\n",
    "Assume you have embedded the graph in **1.1.2** with a __Linear Embedding__ using unormalized Laplacian matrix of the graph as the similarity matrix. How do you expect the embeddings to be if the embedding dimension is $d = 1$?\n",
    "(1) Check the correct box below and (2) motivate your answer.\n",
    "\n",
    "* [ ] Nodes 1, 2, 3, 4 will be placed in the corners of a hypercube\n",
    "* [ ] Nodes 2,3 will have the same embedding while 1,4 will be far from each other.\n",
    "* [x] Nodes 1,4 and 2,3 will have very close embeddings.\n",
    "* [ ] Nodes 3,4 will be very far apart.\n",
    "\n",
    "<font color='red'>IMPORTANT: Do NOT just choose one answer. Please clarify WHY this is the correct answer.</font>"
   ]
  },
  {
   "cell_type": "markdown",
   "metadata": {},
   "source": [
    "******************\n",
    "<span style=\"color:red\">As there are no nodes with zero degree and the graph has only one connected component, the first eigenvector in the Laplacian matrix will be a constant vector. Hence, we use the second smallest eigenvector which is the Fiedler vector. The cutpoints are the edges (1,2) and (2,4), thus 2 and 3 will have the same embedding since they belong in the same set are connected by an edge. As 1 and 4 are connected by an edge and belong in the same set (different than 2 and 3) as well, they too will have very close embeddings.</span>\n",
    "******************"
   ]
  },
  {
   "cell_type": "markdown",
   "metadata": {},
   "source": [
    "## Task 1.2: Spectral Properties of the Graph Laplacian (17 points)\n",
    " <span style='color: green'>**\\[Prove\\]**</span> **the following properties:**\n",
    " You will be given points for each of the properties that you prove, rather than points for the exercise as a whole.\n",
    "\n",
    "**Note that all question correspond to the eigenvalues of the LAPLACIAN (NOT THE NORMALIZED)**\n",
    "\n",
    "For a graph with $n$ nodes the eigenvalues of the LAPLACIAN ($L  = D - A$) is sorted in ascending order, i.e.,<br>\n",
    "**$\\lambda_0\\leq\\lambda_1\\leq...\\leq\\lambda_{n-1}$**"
   ]
  },
  {
   "cell_type": "markdown",
   "metadata": {},
   "source": [
    "### Task 1.2.1 (1 points)\n",
    "\n",
    "For all graphs $\\lambda_0 = 0$ "
   ]
  },
  {
   "cell_type": "markdown",
   "metadata": {},
   "source": [
    "*******************\n",
    "By definition we can find the eigenvalues on a given matrix by the equation $(L-\\lambda I)=0$.\n",
    "These eigenvalues are a solution to the eigenvector $v$ equation that can be written $Lv=\\lambda v$. The Laplacian matrix can be is build by:\n",
    "\n",
    "$L=\\begin{cases} deg(n_{ij}) &,\\text{if} \\; i=j \\\\ -1 &,\\text{if} \\; i\\neq j \\;\\text{and nodes are adjacent}\\\\ 0 &, \\text{otherwise}\n",
    "\\end{cases}$\n",
    "\n",
    "As the degree of a node is the connection is has then the sum of each column and row is 0. There are always as many -1 elements as the degree is. \n",
    "\n",
    "Because of this there is always an eigenvector $v_0=(1,1,...,1)$ that corresponds to the eigenvalue $\\lambda_0=0$ because these fulfill the eigenvector equation. This is because the right side of the eqution picks out the sum of each row into a vector. \n",
    "\n",
    "$L v_0=(0 \\; 0 \\; 0 ... 0 )^T$\n",
    "\n",
    "This means that the corresponding eigenvalue is also 0.\n",
    "\n",
    "$Lv=\\lambda v$\n",
    "\n",
    "$\\Rightarrow (0 \\; 0 \\; 0 ... 0 )^T=(\\lambda \\; \\lambda \\; \\lambda ... \\lambda )^T$\n",
    "\n",
    "$\\Rightarrow \\; \\lambda = 0$\n",
    "\n",
    "And as we have chosen the eigenvalues to be ascending it is always with the lowest index.\n",
    "******************"
   ]
  },
  {
   "cell_type": "markdown",
   "metadata": {},
   "source": [
    "### Task 1.2.2 (2 points)\n",
    "For the complete graph, $\\lambda_1, \\dots, \\lambda_{n-1} = n$"
   ]
  },
  {
   "cell_type": "markdown",
   "metadata": {},
   "source": [
    "******************\n",
    "A coplete graph is one where all the nodes are connected so it is like this:\n",
    "\n",
    "$L=\\left( \\begin{matrix}\n",
    "n-1 & -1 & \\dots & -1 \\\\\n",
    "-1 & n-1 & \\dots & -1 \\\\\n",
    "\\vdots & & \\ddots & \\vdots \\\\\n",
    "-1 &  \\dots & -1 & n-1\n",
    "\\end{matrix} \\right)$\n",
    "\n",
    "We can find the eigenvalues solving the equation $(L-\\lambda I)=0$:\n",
    "\n",
    "$\\left| \\left( \\begin{matrix}\n",
    "n-1-\\lambda & -1 & \\dots & -1 \\\\\n",
    "-1 & n-1-\\lambda & \\dots & -1 \\\\\n",
    "\\vdots & & \\ddots & \\vdots \\\\\n",
    "-1 &  \\dots & -1 & n-1-\\lambda\n",
    "\\end{matrix} \\right) \\right|=0$\n",
    "\n",
    "Calculating the determinant is simple and can be sone by taking the sub-determinants. As an example in the case $n=3$:\n",
    "\n",
    "$\\left| \\left( \\begin{matrix}\n",
    "2-\\lambda & -1  & -1 \\\\\n",
    "-1 & 2-\\lambda & -1 \\\\\n",
    "-1 & -1 & 2-\\lambda\n",
    "\\end{matrix} \\right) \\right|=(2-\\lambda)((2-\\lambda)^2-1)+1(-(2-\\lambda)-1))-1((2-\\lambda)+1))=0$\n",
    "\n",
    "$(\\lambda -3)^2\\lambda = 0$\n",
    "\n",
    "So as in the previous question we see that the first eigenvalue is 0. The other ones are degenarate. The equation will always come to that form and give that the $\\lambda_1, \\dots, \\lambda_{n-1} = n$ in $n$-dimensional case.\n",
    "\n",
    "******************"
   ]
  },
  {
   "cell_type": "markdown",
   "metadata": {},
   "source": [
    "### Task 1.2.3 (3 points)\n",
    "\n",
    "For all the graphs with $k$ connected components $\\lambda_0 = \\lambda_1 =...=\\lambda_ k = 0$"
   ]
  },
  {
   "cell_type": "markdown",
   "metadata": {},
   "source": [
    "******************\n",
    "Since the Laplacian matrix L is symmetric and positive semi-definite, all its eigenvalues are non-negative. Since the graph has k connected components, L can be expressed as a k block diagonal matrix with k blocks corresponding to the respective connected components. Let L1, L2, ... , Lk be the Laplacian matrices of the k blocks. We can see that the eigenvalues of L is hence the union set of the respective eigenvalues of the individual L1, L2, ..., Lk of the k components. Since each component has at least one node, its respective Laplacian matrix will contain an eigenvalue 0 corresponding to its constant vector of 1's. Thus, each block will have eigenvalue 0 and $\\lambda_0 = \\lambda_1 =...=\\lambda_ k = 0$.\n",
    "\n",
    "******************"
   ]
  },
  {
   "cell_type": "markdown",
   "metadata": {},
   "source": [
    "### Task 1.2.4 (5 points)\n",
    "Given a graph $G$ with eigenvalues of the laplacian $\\lambda_0, \\lambda_1,...,\\lambda_{n-1}$.<br>\n",
    "We randomly remove an edge from $G$ and we re-calculate the eigenvalues as $\\lambda'_0, \\lambda'_1,...,\\lambda'_{n-1}$.<br>\n",
    "Can we have $\\lambda'_{i}>\\lambda_{i}$ for some $0\\leq i\\leq n-1$? Why? Why not?"
   ]
  },
  {
   "cell_type": "markdown",
   "metadata": {},
   "source": [
    "******************\n",
    "Laplacian matrix of a graph G: L=D-A; D is the diagonal matrix of vertex degrees & A is the adjacency matrix. Removing an edge from G, we obtain the new adjacency matrix A' by subtracting the corresponding entry from the original adjacency matrix A. This will change L to L' = D - A'. Assuming that the edge removed connects vertices i and j in G, the corresponding entries in the adjacency matrix A were A[i][j] = 1 and A[j][i] = 1.\n",
    "\n",
    "L' can be written as L' = D - A' = D - (A - E[i][j] - E[j][i]), where E[i][j] and E[j][i] have all entries zero except for a 1 in the (i,j) and (j,i) positions, respectively.\n",
    "\n",
    "Let's assume that the eigenvalue $\\lambda_i$ is the i-th smallest eigenvalue of L. Then, $\\lambda'_i = \\lambda_i$ + d, where d is a non-negative number that depends on the degree of vertices i and j in G. If both degrees are 1, d = 1. If the degree of vertex i = 1 and the degree of vertex j > 1, then d = 1/deg(j). Similarly, if the degree of vertex j = 1 and the degree of vertex i > 1, then d = 1/deg(i). If the degrees of both vertices i and j are greater than 1, then d = 2/(deg(i) + deg(j)).\n",
    "\n",
    "Thus, if d is large enough, we could have $\\lambda'_{i}>\\lambda_{i}$. This could be when the degrees of vertices i and j are large and the edge removed connects two highly connected vertices in the graph.\n",
    "\n",
    "\n",
    "******************"
   ]
  },
  {
   "cell_type": "markdown",
   "metadata": {},
   "source": [
    "### Task 1.2.5 (6 points)\n",
    "Suppose that the graph $G$ consists of two connected componentes of equal size named  $G_1$ and $G_2$. For simplicity assume that $n$ is even.<br>\n",
    "The Laplacian of $G_1$ has eigenvalues $\\lambda^1_0,\\lambda^1_1,...,\\lambda^1_{n/2-1}$.<br>\n",
    "The Laplacian of $G_2$ has eigenvalues $\\lambda^2_0,\\lambda^2_1,...,\\lambda^2_{n/2-1}$.<br>\n",
    "Prove that the  Laplacian of $G$ is consisted of the eigenvalues of the Laplacians of $G_1$ and $G_2$ in ascending order."
   ]
  },
  {
   "cell_type": "markdown",
   "metadata": {},
   "source": [
    "******************\n",
    "The $L$ matrix for $G$ looks something like this:\n",
    "\n",
    "$L=\\left( \\begin{matrix}\n",
    "G_1 & E \\\\\n",
    "E^T & G_2\n",
    "\\end{matrix} \\right)$\n",
    "\n",
    "Where $G_1$ and $G_2$ are the different components and $E$ is a block consisting of 0's and -1's illustrating how the components are connected to each other.\n",
    "\n",
    "\n",
    "Beause $G$ is symmetric it can be diagonalizied. This correcsponds to the tarsformation $G=PDP^{-1}$. This tarsformation conserves the eigenvalues beacause they both fulfil the equation:\n",
    "\n",
    "$G=\\lambda I$ \n",
    "\n",
    "$=PDP^{-1}\\lambda I$\n",
    "\n",
    "$\\Rightarrow D=P^{-1}\\lambda I P = \\lambda I$\n",
    "\n",
    "\n",
    "Thus the matrix has the same eigenvalues.\n",
    "******************"
   ]
  },
  {
   "cell_type": "markdown",
   "metadata": {},
   "source": [
    "# Part 2: Graphs and Spectral clustering\n",
    "In this part, you will experiment and reflect on spectral clustering as a technique for partitioning a graph. "
   ]
  },
  {
   "cell_type": "markdown",
   "metadata": {},
   "source": [
    "## Task 2.1: $\\varepsilon$-neighbourhood graph (10 points)\n",
    "\n",
    "In this subsection you will experiment with some biological data [https://journals.plos.org/ploscompbiol/article?id=10.1371/journal.pcbi.1003268](https://journals.plos.org/ploscompbiol/article?id=10.1371/journal.pcbi.1003268).\n",
    "\n",
    "**!IMPORTANT!** First run the following code to load the data."
   ]
  },
  {
   "cell_type": "code",
   "execution_count": 10,
   "metadata": {},
   "outputs": [],
   "source": [
    "#Load Data\n",
    "from utilities.make_graphs import read_edge_list, read_list, load_data\n",
    "import numpy as np\n",
    "X, Y = load_data()"
   ]
  },
  {
   "cell_type": "markdown",
   "metadata": {},
   "source": [
    "******************\n",
    "### Task 2.1.1 (4 points)\n",
    "<span style='color: green'>**\\[Implement\\]**</span> the $\\varepsilon$-neighborhood graph, using Eucledian ($L_2$) distance. \n",
    "\n",
    "**Note**: Be sure that your constructed graph does not contain self-loop edges (edges from i to i for each i)"
   ]
  },
  {
   "cell_type": "code",
   "execution_count": 33,
   "metadata": {},
   "outputs": [],
   "source": [
    "#YOUR CODE HERE\n",
    "# Be sure that your constructed graphs does not \n",
    "# contain loop edges (edges from i to i for some node i)\n",
    "import numpy as np\n",
    "from scipy.spatial import distance_matrix\n",
    "import networkx as nx\n",
    "\n",
    "def nn_graph(data, eps, remove_self=True, directed=False):\n",
    "    n = len(data)\n",
    "    G = nx.Graph()    \n",
    "    if directed:\n",
    "        G = nx.DiGraph()\n",
    "    ### YOUR CODE STARTS HERE\n",
    "    data = np.array(data)\n",
    "    d = distance_matrix(data, data)\n",
    "\n",
    "    for i in range(n):\n",
    "        for j in range(i+1, n):\n",
    "            if i == j:\n",
    "                continue\n",
    "            if d[i, j] <= eps:\n",
    "                G.add_edge(i, j)\n",
    "                if not directed:\n",
    "                    G.add_edge(j, i)\n",
    "    d = np.linalg.norm(data[:, None] - data, axis=-1)\n",
    "\n",
    "    for i in range(n):\n",
    "        neighbors = np.where(d[i] <= eps)[0]\n",
    "        for j in neighbors:\n",
    "            if i != j:  # avoid self-loops\n",
    "                G.add_edge(i, j)\n",
    "    \n",
    "    if remove_self:\n",
    "        G.remove_edges_from(nx.selfloop_edges(G))\n",
    "\n",
    "    \n",
    "    ### YOUR ENDS CODE HERE\n",
    "    return G"
   ]
  },
  {
   "cell_type": "markdown",
   "metadata": {},
   "source": [
    "### Task 2.1.2 (2 points)\n",
    "\n",
    "Try with different $\\varepsilon$ values (select a small set of $\\varepsilon$, e.g., 0.01-0.5 values) and plot the graphs. \n",
    "\n",
    "<span style='color: green'>**\\[Motivate\\]**</span> what you observe as epsilon increases. "
   ]
  },
  {
   "cell_type": "code",
   "execution_count": 34,
   "metadata": {},
   "outputs": [
    {
     "name": "stderr",
     "output_type": "stream",
     "text": [
      "<ipython-input-34-42b4d1e54d7d>:6: MatplotlibDeprecationWarning: Adding an axes using the same arguments as a previous axes currently reuses the earlier instance.  In a future version, a new instance will always be created and returned.  Meanwhile, this warning can be suppressed, and the future behavior ensured, by passing a unique label to each axes instance.\n",
      "  ax1=plt.subplot()\n"
     ]
    },
    {
     "data": {
      "image/png": "[encoded data removed]",
      "text/plain": [
       "<Figure size 432x288 with 1 Axes>"
      ]
     },
     "metadata": {
      "needs_background": "light"
     },
     "output_type": "display_data"
    },
    {
     "ename": "ValueError",
     "evalue": "'c' argument has 307 elements, which is inconsistent with 'x' and 'y' with size 291.",
     "output_type": "error",
     "traceback": [
      "\u001b[0;31m---------------------------------------------------------------------------\u001b[0m",
      "\u001b[0;31mValueError\u001b[0m                                Traceback (most recent call last)",
      "\u001b[0;32m/opt/anaconda3/lib/python3.8/site-packages/matplotlib/axes/_axes.py\u001b[0m in \u001b[0;36m_parse_scatter_color_args\u001b[0;34m(c, edgecolors, kwargs, xsize, get_next_color_func)\u001b[0m\n\u001b[1;32m   4238\u001b[0m             \u001b[0;32mtry\u001b[0m\u001b[0;34m:\u001b[0m  \u001b[0;31m# Is 'c' acceptable as PathCollection facecolors?\u001b[0m\u001b[0;34m\u001b[0m\u001b[0;34m\u001b[0m\u001b[0m\n\u001b[0;32m-> 4239\u001b[0;31m                 \u001b[0mcolors\u001b[0m \u001b[0;34m=\u001b[0m \u001b[0mmcolors\u001b[0m\u001b[0;34m.\u001b[0m\u001b[0mto_rgba_array\u001b[0m\u001b[0;34m(\u001b[0m\u001b[0mc\u001b[0m\u001b[0;34m)\u001b[0m\u001b[0;34m\u001b[0m\u001b[0;34m\u001b[0m\u001b[0m\n\u001b[0m\u001b[1;32m   4240\u001b[0m             \u001b[0;32mexcept\u001b[0m \u001b[0mValueError\u001b[0m\u001b[0;34m:\u001b[0m\u001b[0;34m\u001b[0m\u001b[0;34m\u001b[0m\u001b[0m\n",
      "\u001b[0;32m/opt/anaconda3/lib/python3.8/site-packages/matplotlib/colors.py\u001b[0m in \u001b[0;36mto_rgba_array\u001b[0;34m(c, alpha)\u001b[0m\n\u001b[1;32m    339\u001b[0m     \u001b[0;32melse\u001b[0m\u001b[0;34m:\u001b[0m\u001b[0;34m\u001b[0m\u001b[0;34m\u001b[0m\u001b[0m\n\u001b[0;32m--> 340\u001b[0;31m         \u001b[0;32mreturn\u001b[0m \u001b[0mnp\u001b[0m\u001b[0;34m.\u001b[0m\u001b[0marray\u001b[0m\u001b[0;34m(\u001b[0m\u001b[0;34m[\u001b[0m\u001b[0mto_rgba\u001b[0m\u001b[0;34m(\u001b[0m\u001b[0mcc\u001b[0m\u001b[0;34m,\u001b[0m \u001b[0malpha\u001b[0m\u001b[0;34m)\u001b[0m \u001b[0;32mfor\u001b[0m \u001b[0mcc\u001b[0m \u001b[0;32min\u001b[0m \u001b[0mc\u001b[0m\u001b[0;34m]\u001b[0m\u001b[0;34m)\u001b[0m\u001b[0;34m\u001b[0m\u001b[0;34m\u001b[0m\u001b[0m\n\u001b[0m\u001b[1;32m    341\u001b[0m \u001b[0;34m\u001b[0m\u001b[0m\n",
      "\u001b[0;32m/opt/anaconda3/lib/python3.8/site-packages/matplotlib/colors.py\u001b[0m in \u001b[0;36m<listcomp>\u001b[0;34m(.0)\u001b[0m\n\u001b[1;32m    339\u001b[0m     \u001b[0;32melse\u001b[0m\u001b[0;34m:\u001b[0m\u001b[0;34m\u001b[0m\u001b[0;34m\u001b[0m\u001b[0m\n\u001b[0;32m--> 340\u001b[0;31m         \u001b[0;32mreturn\u001b[0m \u001b[0mnp\u001b[0m\u001b[0;34m.\u001b[0m\u001b[0marray\u001b[0m\u001b[0;34m(\u001b[0m\u001b[0;34m[\u001b[0m\u001b[0mto_rgba\u001b[0m\u001b[0;34m(\u001b[0m\u001b[0mcc\u001b[0m\u001b[0;34m,\u001b[0m \u001b[0malpha\u001b[0m\u001b[0;34m)\u001b[0m \u001b[0;32mfor\u001b[0m \u001b[0mcc\u001b[0m \u001b[0;32min\u001b[0m \u001b[0mc\u001b[0m\u001b[0;34m]\u001b[0m\u001b[0;34m)\u001b[0m\u001b[0;34m\u001b[0m\u001b[0;34m\u001b[0m\u001b[0m\n\u001b[0m\u001b[1;32m    341\u001b[0m \u001b[0;34m\u001b[0m\u001b[0m\n",
      "\u001b[0;32m/opt/anaconda3/lib/python3.8/site-packages/matplotlib/colors.py\u001b[0m in \u001b[0;36mto_rgba\u001b[0;34m(c, alpha)\u001b[0m\n\u001b[1;32m    184\u001b[0m     \u001b[0;32mif\u001b[0m \u001b[0mrgba\u001b[0m \u001b[0;32mis\u001b[0m \u001b[0;32mNone\u001b[0m\u001b[0;34m:\u001b[0m  \u001b[0;31m# Suppress exception chaining of cache lookup failure.\u001b[0m\u001b[0;34m\u001b[0m\u001b[0;34m\u001b[0m\u001b[0m\n\u001b[0;32m--> 185\u001b[0;31m         \u001b[0mrgba\u001b[0m \u001b[0;34m=\u001b[0m \u001b[0m_to_rgba_no_colorcycle\u001b[0m\u001b[0;34m(\u001b[0m\u001b[0mc\u001b[0m\u001b[0;34m,\u001b[0m \u001b[0malpha\u001b[0m\u001b[0;34m)\u001b[0m\u001b[0;34m\u001b[0m\u001b[0;34m\u001b[0m\u001b[0m\n\u001b[0m\u001b[1;32m    186\u001b[0m         \u001b[0;32mtry\u001b[0m\u001b[0;34m:\u001b[0m\u001b[0;34m\u001b[0m\u001b[0;34m\u001b[0m\u001b[0m\n",
      "\u001b[0;32m/opt/anaconda3/lib/python3.8/site-packages/matplotlib/colors.py\u001b[0m in \u001b[0;36m_to_rgba_no_colorcycle\u001b[0;34m(c, alpha)\u001b[0m\n\u001b[1;32m    267\u001b[0m         \u001b[0;31m# Test dimensionality to reject single floats.\u001b[0m\u001b[0;34m\u001b[0m\u001b[0;34m\u001b[0m\u001b[0;34m\u001b[0m\u001b[0m\n\u001b[0;32m--> 268\u001b[0;31m         \u001b[0;32mraise\u001b[0m \u001b[0mValueError\u001b[0m\u001b[0;34m(\u001b[0m\u001b[0;34mf\"Invalid RGBA argument: {orig_c!r}\"\u001b[0m\u001b[0;34m)\u001b[0m\u001b[0;34m\u001b[0m\u001b[0;34m\u001b[0m\u001b[0m\n\u001b[0m\u001b[1;32m    269\u001b[0m     \u001b[0;31m# Return a tuple to prevent the cached value from being modified.\u001b[0m\u001b[0;34m\u001b[0m\u001b[0;34m\u001b[0m\u001b[0;34m\u001b[0m\u001b[0m\n",
      "\u001b[0;31mValueError\u001b[0m: Invalid RGBA argument: 2.0",
      "\nDuring handling of the above exception, another exception occurred:\n",
      "\u001b[0;31mValueError\u001b[0m                                Traceback (most recent call last)",
      "\u001b[0;32m<ipython-input-34-42b4d1e54d7d>\u001b[0m in \u001b[0;36m<module>\u001b[0;34m\u001b[0m\n\u001b[1;32m      8\u001b[0m     \u001b[0mpos\u001b[0m\u001b[0;34m=\u001b[0m\u001b[0mnx\u001b[0m\u001b[0;34m.\u001b[0m\u001b[0mspring_layout\u001b[0m\u001b[0;34m(\u001b[0m\u001b[0mG\u001b[0m\u001b[0;34m)\u001b[0m\u001b[0;34m\u001b[0m\u001b[0;34m\u001b[0m\u001b[0m\n\u001b[1;32m      9\u001b[0m     \u001b[0mnx\u001b[0m\u001b[0;34m.\u001b[0m\u001b[0mdraw_networkx_edges\u001b[0m\u001b[0;34m(\u001b[0m\u001b[0mG\u001b[0m\u001b[0;34m,\u001b[0m\u001b[0mpos\u001b[0m\u001b[0;34m=\u001b[0m\u001b[0mX\u001b[0m\u001b[0;34m)\u001b[0m\u001b[0;34m\u001b[0m\u001b[0;34m\u001b[0m\u001b[0m\n\u001b[0;32m---> 10\u001b[0;31m     \u001b[0mnx\u001b[0m\u001b[0;34m.\u001b[0m\u001b[0mdraw_networkx_nodes\u001b[0m\u001b[0;34m(\u001b[0m\u001b[0mG\u001b[0m\u001b[0;34m,\u001b[0m \u001b[0mpos\u001b[0m\u001b[0;34m=\u001b[0m\u001b[0mX\u001b[0m\u001b[0;34m,\u001b[0m \u001b[0mnode_color\u001b[0m\u001b[0;34m=\u001b[0m\u001b[0mY\u001b[0m\u001b[0;34m,\u001b[0m \u001b[0mnode_size\u001b[0m\u001b[0;34m=\u001b[0m\u001b[0;36m20\u001b[0m\u001b[0;34m,\u001b[0m \u001b[0mcmap\u001b[0m\u001b[0;34m=\u001b[0m\u001b[0mplt\u001b[0m\u001b[0;34m.\u001b[0m\u001b[0mget_cmap\u001b[0m\u001b[0;34m(\u001b[0m\u001b[0;34m'tab10'\u001b[0m\u001b[0;34m)\u001b[0m\u001b[0;34m)\u001b[0m\u001b[0;34m\u001b[0m\u001b[0;34m\u001b[0m\u001b[0m\n\u001b[0m\u001b[1;32m     11\u001b[0m     \u001b[0max\u001b[0m\u001b[0;34m.\u001b[0m\u001b[0mset_xlim\u001b[0m\u001b[0;34m(\u001b[0m\u001b[0;34m-\u001b[0m\u001b[0;36m0.1\u001b[0m\u001b[0;34m,\u001b[0m \u001b[0;36m1.1\u001b[0m\u001b[0;34m)\u001b[0m\u001b[0;34m\u001b[0m\u001b[0;34m\u001b[0m\u001b[0m\n\u001b[1;32m     12\u001b[0m     \u001b[0max\u001b[0m\u001b[0;34m.\u001b[0m\u001b[0mset_ylim\u001b[0m\u001b[0;34m(\u001b[0m\u001b[0;34m-\u001b[0m\u001b[0;36m0.1\u001b[0m\u001b[0;34m,\u001b[0m \u001b[0;36m1.1\u001b[0m\u001b[0;34m)\u001b[0m\u001b[0;34m\u001b[0m\u001b[0;34m\u001b[0m\u001b[0m\n",
      "\u001b[0;32m/opt/anaconda3/lib/python3.8/site-packages/networkx/drawing/nx_pylab.py\u001b[0m in \u001b[0;36mdraw_networkx_nodes\u001b[0;34m(G, pos, nodelist, node_size, node_color, node_shape, alpha, cmap, vmin, vmax, ax, linewidths, edgecolors, label, **kwds)\u001b[0m\n\u001b[1;32m    405\u001b[0m         \u001b[0malpha\u001b[0m \u001b[0;34m=\u001b[0m \u001b[0;32mNone\u001b[0m\u001b[0;34m\u001b[0m\u001b[0;34m\u001b[0m\u001b[0m\n\u001b[1;32m    406\u001b[0m \u001b[0;34m\u001b[0m\u001b[0m\n\u001b[0;32m--> 407\u001b[0;31m     node_collection = ax.scatter(xy[:, 0], xy[:, 1],\n\u001b[0m\u001b[1;32m    408\u001b[0m                                  \u001b[0ms\u001b[0m\u001b[0;34m=\u001b[0m\u001b[0mnode_size\u001b[0m\u001b[0;34m,\u001b[0m\u001b[0;34m\u001b[0m\u001b[0;34m\u001b[0m\u001b[0m\n\u001b[1;32m    409\u001b[0m                                  \u001b[0mc\u001b[0m\u001b[0;34m=\u001b[0m\u001b[0mnode_color\u001b[0m\u001b[0;34m,\u001b[0m\u001b[0;34m\u001b[0m\u001b[0;34m\u001b[0m\u001b[0m\n",
      "\u001b[0;32m/opt/anaconda3/lib/python3.8/site-packages/matplotlib/__init__.py\u001b[0m in \u001b[0;36minner\u001b[0;34m(ax, data, *args, **kwargs)\u001b[0m\n\u001b[1;32m   1563\u001b[0m     \u001b[0;32mdef\u001b[0m \u001b[0minner\u001b[0m\u001b[0;34m(\u001b[0m\u001b[0max\u001b[0m\u001b[0;34m,\u001b[0m \u001b[0;34m*\u001b[0m\u001b[0margs\u001b[0m\u001b[0;34m,\u001b[0m \u001b[0mdata\u001b[0m\u001b[0;34m=\u001b[0m\u001b[0;32mNone\u001b[0m\u001b[0;34m,\u001b[0m \u001b[0;34m**\u001b[0m\u001b[0mkwargs\u001b[0m\u001b[0;34m)\u001b[0m\u001b[0;34m:\u001b[0m\u001b[0;34m\u001b[0m\u001b[0;34m\u001b[0m\u001b[0m\n\u001b[1;32m   1564\u001b[0m         \u001b[0;32mif\u001b[0m \u001b[0mdata\u001b[0m \u001b[0;32mis\u001b[0m \u001b[0;32mNone\u001b[0m\u001b[0;34m:\u001b[0m\u001b[0;34m\u001b[0m\u001b[0;34m\u001b[0m\u001b[0m\n\u001b[0;32m-> 1565\u001b[0;31m             \u001b[0;32mreturn\u001b[0m \u001b[0mfunc\u001b[0m\u001b[0;34m(\u001b[0m\u001b[0max\u001b[0m\u001b[0;34m,\u001b[0m \u001b[0;34m*\u001b[0m\u001b[0mmap\u001b[0m\u001b[0;34m(\u001b[0m\u001b[0msanitize_sequence\u001b[0m\u001b[0;34m,\u001b[0m \u001b[0margs\u001b[0m\u001b[0;34m)\u001b[0m\u001b[0;34m,\u001b[0m \u001b[0;34m**\u001b[0m\u001b[0mkwargs\u001b[0m\u001b[0;34m)\u001b[0m\u001b[0;34m\u001b[0m\u001b[0;34m\u001b[0m\u001b[0m\n\u001b[0m\u001b[1;32m   1566\u001b[0m \u001b[0;34m\u001b[0m\u001b[0m\n\u001b[1;32m   1567\u001b[0m         \u001b[0mbound\u001b[0m \u001b[0;34m=\u001b[0m \u001b[0mnew_sig\u001b[0m\u001b[0;34m.\u001b[0m\u001b[0mbind\u001b[0m\u001b[0;34m(\u001b[0m\u001b[0max\u001b[0m\u001b[0;34m,\u001b[0m \u001b[0;34m*\u001b[0m\u001b[0margs\u001b[0m\u001b[0;34m,\u001b[0m \u001b[0;34m**\u001b[0m\u001b[0mkwargs\u001b[0m\u001b[0;34m)\u001b[0m\u001b[0;34m\u001b[0m\u001b[0;34m\u001b[0m\u001b[0m\n",
      "\u001b[0;32m/opt/anaconda3/lib/python3.8/site-packages/matplotlib/cbook/deprecation.py\u001b[0m in \u001b[0;36mwrapper\u001b[0;34m(*args, **kwargs)\u001b[0m\n\u001b[1;32m    356\u001b[0m                 \u001b[0;34mf\"%(removal)s.  If any parameter follows {name!r}, they \"\u001b[0m\u001b[0;34m\u001b[0m\u001b[0;34m\u001b[0m\u001b[0m\n\u001b[1;32m    357\u001b[0m                 f\"should be pass as keyword, not positionally.\")\n\u001b[0;32m--> 358\u001b[0;31m         \u001b[0;32mreturn\u001b[0m \u001b[0mfunc\u001b[0m\u001b[0;34m(\u001b[0m\u001b[0;34m*\u001b[0m\u001b[0margs\u001b[0m\u001b[0;34m,\u001b[0m \u001b[0;34m**\u001b[0m\u001b[0mkwargs\u001b[0m\u001b[0;34m)\u001b[0m\u001b[0;34m\u001b[0m\u001b[0;34m\u001b[0m\u001b[0m\n\u001b[0m\u001b[1;32m    359\u001b[0m \u001b[0;34m\u001b[0m\u001b[0m\n\u001b[1;32m    360\u001b[0m     \u001b[0;32mreturn\u001b[0m \u001b[0mwrapper\u001b[0m\u001b[0;34m\u001b[0m\u001b[0;34m\u001b[0m\u001b[0m\n",
      "\u001b[0;32m/opt/anaconda3/lib/python3.8/site-packages/matplotlib/axes/_axes.py\u001b[0m in \u001b[0;36mscatter\u001b[0;34m(self, x, y, s, c, marker, cmap, norm, vmin, vmax, alpha, linewidths, verts, edgecolors, plotnonfinite, **kwargs)\u001b[0m\n\u001b[1;32m   4399\u001b[0m \u001b[0;34m\u001b[0m\u001b[0m\n\u001b[1;32m   4400\u001b[0m         \u001b[0mc\u001b[0m\u001b[0;34m,\u001b[0m \u001b[0mcolors\u001b[0m\u001b[0;34m,\u001b[0m \u001b[0medgecolors\u001b[0m \u001b[0;34m=\u001b[0m\u001b[0;31m \u001b[0m\u001b[0;31m\\\u001b[0m\u001b[0;34m\u001b[0m\u001b[0;34m\u001b[0m\u001b[0m\n\u001b[0;32m-> 4401\u001b[0;31m             self._parse_scatter_color_args(\n\u001b[0m\u001b[1;32m   4402\u001b[0m                 \u001b[0mc\u001b[0m\u001b[0;34m,\u001b[0m \u001b[0medgecolors\u001b[0m\u001b[0;34m,\u001b[0m \u001b[0mkwargs\u001b[0m\u001b[0;34m,\u001b[0m \u001b[0mx\u001b[0m\u001b[0;34m.\u001b[0m\u001b[0msize\u001b[0m\u001b[0;34m,\u001b[0m\u001b[0;34m\u001b[0m\u001b[0;34m\u001b[0m\u001b[0m\n\u001b[1;32m   4403\u001b[0m                 get_next_color_func=self._get_patches_for_fill.get_next_color)\n",
      "\u001b[0;32m/opt/anaconda3/lib/python3.8/site-packages/matplotlib/axes/_axes.py\u001b[0m in \u001b[0;36m_parse_scatter_color_args\u001b[0;34m(c, edgecolors, kwargs, xsize, get_next_color_func)\u001b[0m\n\u001b[1;32m   4240\u001b[0m             \u001b[0;32mexcept\u001b[0m \u001b[0mValueError\u001b[0m\u001b[0;34m:\u001b[0m\u001b[0;34m\u001b[0m\u001b[0;34m\u001b[0m\u001b[0m\n\u001b[1;32m   4241\u001b[0m                 \u001b[0;32mif\u001b[0m \u001b[0;32mnot\u001b[0m \u001b[0mvalid_shape\u001b[0m\u001b[0;34m:\u001b[0m\u001b[0;34m\u001b[0m\u001b[0;34m\u001b[0m\u001b[0m\n\u001b[0;32m-> 4242\u001b[0;31m                     \u001b[0;32mraise\u001b[0m \u001b[0minvalid_shape_exception\u001b[0m\u001b[0;34m(\u001b[0m\u001b[0mc\u001b[0m\u001b[0;34m.\u001b[0m\u001b[0msize\u001b[0m\u001b[0;34m,\u001b[0m \u001b[0mxsize\u001b[0m\u001b[0;34m)\u001b[0m\u001b[0;34m\u001b[0m\u001b[0;34m\u001b[0m\u001b[0m\n\u001b[0m\u001b[1;32m   4243\u001b[0m                 \u001b[0;31m# Both the mapping *and* the RGBA conversion failed: pretty\u001b[0m\u001b[0;34m\u001b[0m\u001b[0;34m\u001b[0m\u001b[0;34m\u001b[0m\u001b[0m\n\u001b[1;32m   4244\u001b[0m                 \u001b[0;31m# severe failure => one may appreciate a verbose feedback.\u001b[0m\u001b[0;34m\u001b[0m\u001b[0;34m\u001b[0m\u001b[0;34m\u001b[0m\u001b[0m\n",
      "\u001b[0;31mValueError\u001b[0m: 'c' argument has 307 elements, which is inconsistent with 'x' and 'y' with size 291."
     ]
    },
    {
     "data": {
      "image/png": "[encoded data removed]",
      "text/plain": [
       "<Figure size 432x288 with 1 Axes>"
      ]
     },
     "metadata": {
      "needs_background": "light"
     },
     "output_type": "display_data"
    }
   ],
   "source": [
    "### Run the code below\n",
    "eps_values = [0.01, 0.05, 0.1, 0.2, 0.4]\n",
    "\n",
    "for eps in eps_values: \n",
    "    ax=plt.subplot()\n",
    "    ax1=plt.subplot()\n",
    "    G = nn_graph(X, eps)\n",
    "    pos=nx.spring_layout(G)  \n",
    "    nx.draw_networkx_edges(G,pos=X)\n",
    "    nx.draw_networkx_nodes(G, pos=X, node_color=Y, node_size=20, cmap=plt.get_cmap('tab10'))\n",
    "    ax.set_xlim(-0.1, 1.1)\n",
    "    ax.set_ylim(-0.1, 1.1)\n",
    "    plt.show()\n"
   ]
  },
  {
   "cell_type": "markdown",
   "metadata": {},
   "source": [
    "******************\n",
    "The larger the epsilon value, the fewer edges are observed in the graph. This is due to the fact that the graph is constructed based on the epsilon value as a proximity threshold. The graph will construct edges to all nodes within a distance of epsilon to the initial node. As epsilon increases, there will be fewer nodes wihtin the distance of epsilon to the initial node, resulting in fewer edges being connected to the intial node. \n",
    "******************"
   ]
  },
  {
   "cell_type": "markdown",
   "metadata": {},
   "source": [
    "### Task 2.1.3 (2 points)\n",
    "Assign to each edge in the $\\varepsilon$-neighborhood graph a weight\n",
    "\n",
    "$$W_{i j}=e^{-\\frac{\\left\\|\\mathbf{x}_{i}-\\mathbf{x}_{j}\\right\\|^{2}}{t}}$$\n",
    "\n",
    "<span style='color: green'>**\\[Implement\\]**</span> the function ```weighted_nn_graph``` below that returns the weighted graph given the data matrix in input and the values eps and $t$, where $t$ is the parameter of the equation above. "
   ]
  },
  {
   "cell_type": "code",
   "execution_count": 1,
   "metadata": {},
   "outputs": [],
   "source": [
    "import math\n",
    "\n",
    "def weighted_nn_graph(data, eps=20, t=0.1):\n",
    "    n = len(data)\n",
    "    G = nx.Graph()\n",
    "    ### YOUR CODE STARTS HERE\n",
    "    \n",
    "    for i in data:\n",
    "        for j in data:\n",
    "            d= (i[0]-j[0])**2+(i[1]-j[1])**2\n",
    "            if (d!=0 and d<eps**2):\n",
    "                G[i][j]['weight']=math.e**(-d/t)\n",
    "            else:\n",
    "                G[i][j]['weight']=0\n",
    "    \n",
    "    ### YOUR CODE ENDS HERE\n",
    "    return G"
   ]
  },
  {
   "cell_type": "markdown",
   "metadata": {},
   "source": [
    "### Task 2.1.4 (2 points)\n",
    "\n",
    "Vary $t \\in \\{10, 0.1, 0.000001\\}$. Plot the weights as a histogram using the code below in order to analyse the results using the provided code.</br>\n",
    "What happens when $t$ is very small, close to $0$, i.e., $t \\rightarrow 0$?</br> What happens when $t$ is very large?\n",
    "</br>Is the behaviour with $t = 0$ expected?\n",
    "\n",
    "<span style='color: green'>**\\[Motivate\\]**</span> your answer reasoning on the formula. "
   ]
  },
  {
   "cell_type": "code",
   "execution_count": null,
   "metadata": {},
   "outputs": [],
   "source": [
    "ts = [10, 0.2, 0.07, 0.000001]\n",
    "fig, ax = plt.subplots(1,4, figsize=(20, 10))\n",
    "row = 0\n",
    "\n",
    "for i, t in enumerate(ts):\n",
    "    G = weighted_nn_graph(X, eps=60, t=t)\n",
    "    ys = []\n",
    "    \n",
    "\n",
    "    col = i \n",
    "    for i, d in enumerate(G.edges.data()):\n",
    "        ys.append(d[2]['weight'])\n",
    "    plt.hist(ys, bins=100)\n",
    "    ax[col].hist(ys, bins=100)\n",
    "    ax[col].set_title(\"t: \"+str(t))\n",
    "    \n",
    "plt.tight_layout()"
   ]
  },
  {
   "cell_type": "markdown",
   "metadata": {},
   "source": [
    "******************\n",
    "When $t$ is very small, close to $0$, i.e., $t \\rightarrow 0$ the weight get's smaller and smaller. This due to the definition of the weight. Because it's defined as exponential dampening. The L2-norm is always non-negative and the smaller t produces bigger and bigger exponents.\n",
    "\n",
    "When $t$ is very large the weights are also bigger due to the exponents being smaller.\n",
    "\n",
    "This is something we expected from the formula and also see in the plots.\n",
    "\n",
    "******************"
   ]
  },
  {
   "cell_type": "markdown",
   "metadata": {},
   "source": [
    "## Task 2.2: Spectral clustering (20 points)\n",
    "\n",
    "We will now look at spectral clustering and its properties. <br>\n",
    "For this Task we will use a subgraph from [malaria_genes](https://networks.skewed.de/net/malaria_genes). <br>\n",
    "Note that this dataset is the biological network of the data used in Task 2.1. <br>"
   ]
  },
  {
   "cell_type": "markdown",
   "metadata": {},
   "source": [
    "### Task 2.2.1 (5 point)\n",
    "Run the code below to load and visualize the network. <br> \n",
    "By only observing the below plot and the $nn$-plots (nearest-neighbor plots)of task 2.1.2, which $\\varepsilon$ values seems to better approximate the real network? (just think of the answer you don't have to write something)"
   ]
  },
  {
   "cell_type": "code",
   "execution_count": 11,
   "metadata": {},
   "outputs": [
    {
     "data": {
      "image/png": "[encoded data removed]",
      "text/plain": [
       "<Figure size 432x288 with 1 Axes>"
      ]
     },
     "metadata": {},
     "output_type": "display_data"
    }
   ],
   "source": [
    "edgelist = read_edge_list('./data/edges.txt')\n",
    "n = np.max(edgelist)+1\n",
    "G = nx.Graph()\n",
    "for i in range(n):\n",
    "    G.add_node(i)\n",
    "for edge in edgelist:\n",
    "    G.add_edge(edge[0], edge[1])\n",
    "pos=nx.spring_layout(G)  \n",
    "nx.draw_networkx_edges(G,pos=X)\n",
    "nx.draw_networkx_nodes(G, pos=X, node_color=Y, node_size=20, cmap=plt.get_cmap('tab10'))\n",
    "plt.show()"
   ]
  },
  {
   "cell_type": "markdown",
   "metadata": {},
   "source": [
    "Now you are having the real network, lets check how good $nn$-graph (and for which $\\epsilon$ value) is a good \"approximates\"the real graph. <br> \n",
    "\n",
    "A) <span style='color: green'>**\\[Implement\\]**</span> a function that calculates the absolute edge difference between the real network $G$ and the one $\\epsilon$-neighborhood graph. Note that in order to do that you have to follow two steps: \n",
    "1. In the first step you have to check if an edge in the real graph is also presented in the $nn$-graph, if not you increase the counter\n",
    "2. In the second step you follow the opposite direction, that is you check if for every edge of the $nn$-graph if is also presented in the original one, if not you increase the counter. (Faster way just use the adjacency matrices) <br>\n",
    "\n",
    "B) <span style='color: green'>**\\[Implement\\]**</span> Plot the edge-difference plot for the range of epsilon values in the range[0.01, 0.11] with step = 0.005. <br>\n",
    "C) <span style='color: green'>**\\[Motivate]**</span> By observing the plot it seems that there exists only one global minimum and no local minimum. Try to prove/disprove this intuition."
   ]
  },
  {
   "cell_type": "code",
   "execution_count": 12,
   "metadata": {},
   "outputs": [
    {
     "ename": "NameError",
     "evalue": "name 'nn_graph' is not defined",
     "output_type": "error",
     "traceback": [
      "\u001b[0;31m---------------------------------------------------------------------------\u001b[0m",
      "\u001b[0;31mNameError\u001b[0m                                 Traceback (most recent call last)",
      "\u001b[0;32m<ipython-input-12-32a2ddd738bb>\u001b[0m in \u001b[0;36m<module>\u001b[0;34m\u001b[0m\n\u001b[1;32m     13\u001b[0m     \u001b[0mprint\u001b[0m\u001b[0;34m(\u001b[0m\u001b[0;34m\"The absolute difference of the edges is \"\u001b[0m \u001b[0;34m+\u001b[0m \u001b[0mrepr\u001b[0m\u001b[0;34m(\u001b[0m\u001b[0mcounter\u001b[0m\u001b[0;34m)\u001b[0m\u001b[0;34m)\u001b[0m\u001b[0;34m\u001b[0m\u001b[0;34m\u001b[0m\u001b[0m\n\u001b[1;32m     14\u001b[0m \u001b[0;34m\u001b[0m\u001b[0m\n\u001b[0;32m---> 15\u001b[0;31m \u001b[0mdifference\u001b[0m\u001b[0;34m(\u001b[0m\u001b[0mX\u001b[0m\u001b[0;34m,\u001b[0m \u001b[0;36m0.1\u001b[0m\u001b[0;34m)\u001b[0m\u001b[0;34m\u001b[0m\u001b[0;34m\u001b[0m\u001b[0m\n\u001b[0m",
      "\u001b[0;32m<ipython-input-12-32a2ddd738bb>\u001b[0m in \u001b[0;36mdifference\u001b[0;34m(data, eps)\u001b[0m\n\u001b[1;32m      5\u001b[0m     \u001b[0mcounter\u001b[0m \u001b[0;34m=\u001b[0m \u001b[0;36m0\u001b[0m\u001b[0;34m\u001b[0m\u001b[0;34m\u001b[0m\u001b[0m\n\u001b[1;32m      6\u001b[0m     \u001b[0;32mfor\u001b[0m \u001b[0medge\u001b[0m \u001b[0;32min\u001b[0m \u001b[0mG\u001b[0m\u001b[0;34m.\u001b[0m\u001b[0medges\u001b[0m\u001b[0;34m(\u001b[0m\u001b[0;34m)\u001b[0m\u001b[0;34m:\u001b[0m\u001b[0;34m\u001b[0m\u001b[0;34m\u001b[0m\u001b[0m\n\u001b[0;32m----> 7\u001b[0;31m         \u001b[0;32mif\u001b[0m \u001b[0medge\u001b[0m \u001b[0;32min\u001b[0m \u001b[0mnn_graph\u001b[0m\u001b[0;34m(\u001b[0m\u001b[0mdata\u001b[0m\u001b[0;34m,\u001b[0m \u001b[0meps\u001b[0m\u001b[0;34m,\u001b[0m \u001b[0mremove_self\u001b[0m\u001b[0;34m=\u001b[0m\u001b[0;32mTrue\u001b[0m\u001b[0;34m,\u001b[0m \u001b[0mdirected\u001b[0m\u001b[0;34m=\u001b[0m\u001b[0;32mFalse\u001b[0m\u001b[0;34m)\u001b[0m\u001b[0;34m:\u001b[0m\u001b[0;34m\u001b[0m\u001b[0;34m\u001b[0m\u001b[0m\n\u001b[0m\u001b[1;32m      8\u001b[0m             \u001b[0mcounter\u001b[0m \u001b[0;34m+=\u001b[0m \u001b[0;36m1\u001b[0m\u001b[0;34m\u001b[0m\u001b[0;34m\u001b[0m\u001b[0m\n\u001b[1;32m      9\u001b[0m     \u001b[0;32mfor\u001b[0m \u001b[0medge\u001b[0m \u001b[0;32min\u001b[0m \u001b[0mnn_graph\u001b[0m\u001b[0;34m(\u001b[0m\u001b[0mdata\u001b[0m\u001b[0;34m,\u001b[0m \u001b[0meps\u001b[0m\u001b[0;34m,\u001b[0m \u001b[0mremove_self\u001b[0m\u001b[0;34m=\u001b[0m\u001b[0;32mTrue\u001b[0m\u001b[0;34m,\u001b[0m \u001b[0mdirected\u001b[0m\u001b[0;34m=\u001b[0m\u001b[0;32mFalse\u001b[0m\u001b[0;34m)\u001b[0m\u001b[0;34m.\u001b[0m\u001b[0medges\u001b[0m\u001b[0;34m(\u001b[0m\u001b[0;34m)\u001b[0m\u001b[0;34m:\u001b[0m\u001b[0;34m\u001b[0m\u001b[0;34m\u001b[0m\u001b[0m\n",
      "\u001b[0;31mNameError\u001b[0m: name 'nn_graph' is not defined"
     ]
    }
   ],
   "source": [
    "#A) YOUR CODE HERE\n",
    "#Here the epsilon has to be adjusted some. \n",
    "#I'm thinking of maybe a good value might be something close to the diameter of the average clusters above\n",
    "def difference(data, eps):\n",
    "    counter = 0\n",
    "    for edge in G.edges():\n",
    "        if edge in nn_graph(data, eps, remove_self=True, directed=False):\n",
    "            counter += 1\n",
    "    for edge in nn_graph(data, eps, remove_self=True, directed=False).edges():\n",
    "        if edge in G:\n",
    "            counter += 1\n",
    "    return counter\n",
    "    print(\"The absolute difference of the edges is \" + repr(counter))\n",
    "\n",
    "difference(X, 0.1)"
   ]
  },
  {
   "cell_type": "code",
   "execution_count": null,
   "metadata": {},
   "outputs": [],
   "source": [
    "#B) YOUR CODE HERE\n",
    "\n",
    "points = np.array([])\n",
    "initial = 0.01\n",
    "\n",
    "while eps<= 0.11:\n",
    "    dif = difference(X, eps)\n",
    "    plt.scatter(eps,dif)\n",
    "    eps+=0.005\n",
    "\n",
    "plt.show()"
   ]
  },
  {
   "cell_type": "markdown",
   "metadata": {},
   "source": [
    "******************\n",
    "C) This intuition of one global and no local minimum makes sense. As we are plotting the difference of the edges as a function of epsilon there must be one epsilon value (or close to one) that produces the most similar one. Moving away from that value would always increase the difference of the edges. There is also no local minumums since this method is based on the L2-norm in epsilon neighbourhoods. It's basically a linear dependancy is imagining it in radial coordinates.\n",
    "******************"
   ]
  },
  {
   "cell_type": "code",
   "execution_count": 5,
   "metadata": {},
   "outputs": [
    {
     "ename": "SyntaxError",
     "evalue": "invalid syntax (<ipython-input-5-ab145d6019ed>, line 1)",
     "output_type": "error",
     "traceback": [
      "\u001b[0;36m  File \u001b[0;32m\"<ipython-input-5-ab145d6019ed>\"\u001b[0;36m, line \u001b[0;32m1\u001b[0m\n\u001b[0;31m    ******************\u001b[0m\n\u001b[0m    ^\u001b[0m\n\u001b[0;31mSyntaxError\u001b[0m\u001b[0;31m:\u001b[0m invalid syntax\n"
     ]
    }
   ],
   "source": [
    "******************\n",
    "These definations of the matrices are from wikipedia. We're using these ones: \n",
    "\n",
    "$L_{norm}=\\begin{cases} 1 &,\\text{if} \\; i=j \\; \\text{and deg isn't 0} \\\\ \\frac{-1}{\\sqrt{deg(v_i)(v_j)}} &,\\text{if} \\; i\\neq j \\; \\text{and nodes are connected}\\;\\text{and nodes are adjacent}\\\\ 0 &, \\text{otherwise}\n",
    "\\end{cases}$\n",
    "\n",
    "$L_{rw}=\\begin{cases} 1 &,\\text{if} \\; i=j \\; \\text{and deg isn't 0} \\\\ \\frac{-1}{deg(v_i)} &,\\text{if} \\; i\\neq j \\; \\text{and nodes are connected}\\;\\text{and nodes are adjacent}\\\\ 0 &, \\text{otherwise}\n",
    "\\end{cases}$\n",
    "                                                    \n",
    "******************"
   ]
  },
  {
   "cell_type": "markdown",
   "metadata": {},
   "source": [
    "### Task 2.2.2 (2 points)\n",
    "Compute the eigenvectors and eigenvalues (using the provided function) of the Normalized Laplacian and the Random Walk Laplacian of the graph $G$.<br> \n",
    "Plot the spectrum (eigenvalues).\n",
    "\n",
    "<span style='color: green'>**\\[Implement\\]**</span> the code to compute the different Laplacians. "
   ]
  },
  {
   "cell_type": "code",
   "execution_count": null,
   "metadata": {},
   "outputs": [],
   "source": [
    "def graph_eig(L): \n",
    "    \"\"\"\n",
    "        Takes a graph Laplacian and returns sorted the eigenvalues and vectors.\n",
    "    \"\"\"\n",
    "    lambdas, eigenvectors = np.linalg.eig(L)\n",
    "    lambdas = np.real(lambdas)\n",
    "    eigenvectors = np.real(eigenvectors)\n",
    "    \n",
    "    order = np.argsort(lambdas)\n",
    "    lambdas = lambdas[order]\n",
    "    eigenvectors = eigenvectors[:, order]\n",
    "    \n",
    "    return lambdas, eigenvectors"
   ]
  },
  {
   "cell_type": "code",
   "execution_count": null,
   "metadata": {},
   "outputs": [],
   "source": [
    "L_norm = None\n",
    "L_rw = None\n",
    "\n",
    "### YOUR CODE STARTS HERE\n",
    "\n",
    "##The eigenvalue takes a matrix eg array of array\n",
    "\n",
    "\n",
    "for i in X:\n",
    "    nrow = []\n",
    "    rwrow = []\n",
    "    for j in X:\n",
    "        ie = G.edges(X[i])\n",
    "        je = G.edges(X[j])\n",
    "        if i==j:\n",
    "            nrow.append(1)\n",
    "            rwrow.append(1)\n",
    "        if (i!=j and X.has_edge(X[i],X[j])==true):\n",
    "            nrow.append(-1/math.sqrt(ie*je))\n",
    "            rwrow.append(-1/ie)\n",
    "        else:\n",
    "            nrow.append(0)\n",
    "            rwrow.append(0)\n",
    "            \n",
    "    L_norm.append(nrow)\n",
    "    L_rw.append(rwrow)\n",
    "            \n",
    "\n",
    "\n",
    "### YOUR CODE ENDS HERE\n",
    "\n",
    "eigval_norm, eigvec_norm = graph_eig(L_norm)\n",
    "eigval_rw, eigvec_rw = graph_eig(L_rw)\n",
    "\n",
    "plt.figure(0)\n",
    "plt.plot(eigval_norm, 'b-o', label='Spectrum of Normalized Laplacian', )\n",
    "plt.legend()\n",
    "plt.figure(1)\n",
    "plt.plot(eigval_rw, 'b-o', label='Spectrum of the Random Walk Laplacian')\n",
    "plt.legend()"
   ]
  },
  {
   "cell_type": "markdown",
   "metadata": {},
   "source": [
    "******************\n",
    "These definations of the matrices are from wikipedia. IWe're using these ones: \n",
    "\n",
    "$L_{norm}=\\begin{cases} 1 &,\\text{if} \\; i=j \\; \\text{and deg isn't 0} \\\\ \\frac{-1}{\\sqrt{deg(v_i)(v_j)}} &,\\text{if} \\; i\\neq j \\; \\text{and nodes are connected}\\;\\text{and nodes are adjacent}\\\\ 0 &, \\text{otherwise}\n",
    "\\end{cases}$\n",
    "\n",
    "$L_{rw}=\\begin{cases} 1 &,\\text{if} \\; i=j \\; \\text{and deg isn't 0} \\\\ \\frac{-1}{deg(v_i)} &,\\text{if} \\; i\\neq j \\; \\text{and nodes are connected}\\;\\text{and nodes are adjacent}\\\\ 0 &, \\text{otherwise}\n",
    "\\end{cases}$\n",
    "******************"
   ]
  },
  {
   "cell_type": "markdown",
   "metadata": {},
   "source": [
    "### Task 2.2.3 (4 points)\n",
    "<span style='color: green'>**\\[Implement\\]**</span> the function ```spect_cluster``` that returns a vector ```y_clust``` in which each entry y_clust\\[i\\] represents the community assigned to node $i$. The method should be able to handle both the Normalized Laplacian, and the Random Walk Laplacian. You are allowed to use your implementation from the weekly exercises and ```sklearn.cluster.k_means``` for k-means clustering. "
   ]
  },
  {
   "cell_type": "code",
   "execution_count": 13,
   "metadata": {},
   "outputs": [],
   "source": [
    "from sklearn.cluster import k_means\n",
    "\n",
    "def spect_cluster(G, eig_type=\"normal\", k=5, d=5):\n",
    "    ### YOUR CODE STARTS HERE\n",
    "    km = k_means(k,d)\n",
    "    km.fit(G)\n",
    "    \n",
    "    y_clust = km.labels_\n",
    "\n",
    "    ### YOUR CODE ENDS HERE\n",
    "    return y_clust #vector"
   ]
  },
  {
   "cell_type": "code",
   "execution_count": 14,
   "metadata": {},
   "outputs": [
    {
     "ename": "ValueError",
     "evalue": "Expected 2D array, got scalar array instead:\narray=6.0.\nReshape your data either using array.reshape(-1, 1) if your data has a single feature or array.reshape(1, -1) if it contains a single sample.",
     "output_type": "error",
     "traceback": [
      "\u001b[0;31m---------------------------------------------------------------------------\u001b[0m",
      "\u001b[0;31mValueError\u001b[0m                                Traceback (most recent call last)",
      "\u001b[0;32m<ipython-input-14-5dd663bb91fa>\u001b[0m in \u001b[0;36m<module>\u001b[0;34m\u001b[0m\n\u001b[1;32m      8\u001b[0m     \u001b[0mplt\u001b[0m\u001b[0;34m.\u001b[0m\u001b[0mshow\u001b[0m\u001b[0;34m(\u001b[0m\u001b[0;34m)\u001b[0m\u001b[0;34m\u001b[0m\u001b[0;34m\u001b[0m\u001b[0m\n\u001b[1;32m      9\u001b[0m \u001b[0;34m\u001b[0m\u001b[0m\n\u001b[0;32m---> 10\u001b[0;31m \u001b[0myour_clusters\u001b[0m \u001b[0;34m=\u001b[0m \u001b[0mspect_cluster\u001b[0m\u001b[0;34m(\u001b[0m\u001b[0mG\u001b[0m\u001b[0;34m,\u001b[0m \u001b[0mk\u001b[0m\u001b[0;34m=\u001b[0m\u001b[0;36m6\u001b[0m\u001b[0;34m)\u001b[0m\u001b[0;34m\u001b[0m\u001b[0;34m\u001b[0m\u001b[0m\n\u001b[0m\u001b[1;32m     11\u001b[0m \u001b[0mplot_graph\u001b[0m\u001b[0;34m(\u001b[0m\u001b[0mG\u001b[0m\u001b[0;34m,\u001b[0m \u001b[0myour_clusters\u001b[0m\u001b[0;34m)\u001b[0m\u001b[0;34m\u001b[0m\u001b[0;34m\u001b[0m\u001b[0m\n",
      "\u001b[0;32m<ipython-input-13-58d3d13ab2b3>\u001b[0m in \u001b[0;36mspect_cluster\u001b[0;34m(G, eig_type, k, d)\u001b[0m\n\u001b[1;32m      3\u001b[0m \u001b[0;32mdef\u001b[0m \u001b[0mspect_cluster\u001b[0m\u001b[0;34m(\u001b[0m\u001b[0mG\u001b[0m\u001b[0;34m,\u001b[0m \u001b[0meig_type\u001b[0m\u001b[0;34m=\u001b[0m\u001b[0;34m\"normal\"\u001b[0m\u001b[0;34m,\u001b[0m \u001b[0mk\u001b[0m\u001b[0;34m=\u001b[0m\u001b[0;36m5\u001b[0m\u001b[0;34m,\u001b[0m \u001b[0md\u001b[0m\u001b[0;34m=\u001b[0m\u001b[0;36m5\u001b[0m\u001b[0;34m)\u001b[0m\u001b[0;34m:\u001b[0m\u001b[0;34m\u001b[0m\u001b[0;34m\u001b[0m\u001b[0m\n\u001b[1;32m      4\u001b[0m     \u001b[0;31m### YOUR CODE STARTS HERE\u001b[0m\u001b[0;34m\u001b[0m\u001b[0;34m\u001b[0m\u001b[0;34m\u001b[0m\u001b[0m\n\u001b[0;32m----> 5\u001b[0;31m     \u001b[0mkm\u001b[0m \u001b[0;34m=\u001b[0m \u001b[0mk_means\u001b[0m\u001b[0;34m(\u001b[0m\u001b[0mk\u001b[0m\u001b[0;34m,\u001b[0m\u001b[0md\u001b[0m\u001b[0;34m)\u001b[0m\u001b[0;34m\u001b[0m\u001b[0;34m\u001b[0m\u001b[0m\n\u001b[0m\u001b[1;32m      6\u001b[0m     \u001b[0mkm\u001b[0m\u001b[0;34m.\u001b[0m\u001b[0mfit\u001b[0m\u001b[0;34m(\u001b[0m\u001b[0mG\u001b[0m\u001b[0;34m)\u001b[0m\u001b[0;34m\u001b[0m\u001b[0;34m\u001b[0m\u001b[0m\n\u001b[1;32m      7\u001b[0m \u001b[0;34m\u001b[0m\u001b[0m\n",
      "\u001b[0;32m/opt/anaconda3/lib/python3.8/site-packages/sklearn/utils/validation.py\u001b[0m in \u001b[0;36minner_f\u001b[0;34m(*args, **kwargs)\u001b[0m\n\u001b[1;32m     71\u001b[0m                           FutureWarning)\n\u001b[1;32m     72\u001b[0m         \u001b[0mkwargs\u001b[0m\u001b[0;34m.\u001b[0m\u001b[0mupdate\u001b[0m\u001b[0;34m(\u001b[0m\u001b[0;34m{\u001b[0m\u001b[0mk\u001b[0m\u001b[0;34m:\u001b[0m \u001b[0marg\u001b[0m \u001b[0;32mfor\u001b[0m \u001b[0mk\u001b[0m\u001b[0;34m,\u001b[0m \u001b[0marg\u001b[0m \u001b[0;32min\u001b[0m \u001b[0mzip\u001b[0m\u001b[0;34m(\u001b[0m\u001b[0msig\u001b[0m\u001b[0;34m.\u001b[0m\u001b[0mparameters\u001b[0m\u001b[0;34m,\u001b[0m \u001b[0margs\u001b[0m\u001b[0;34m)\u001b[0m\u001b[0;34m}\u001b[0m\u001b[0;34m)\u001b[0m\u001b[0;34m\u001b[0m\u001b[0;34m\u001b[0m\u001b[0m\n\u001b[0;32m---> 73\u001b[0;31m         \u001b[0;32mreturn\u001b[0m \u001b[0mf\u001b[0m\u001b[0;34m(\u001b[0m\u001b[0;34m**\u001b[0m\u001b[0mkwargs\u001b[0m\u001b[0;34m)\u001b[0m\u001b[0;34m\u001b[0m\u001b[0;34m\u001b[0m\u001b[0m\n\u001b[0m\u001b[1;32m     74\u001b[0m     \u001b[0;32mreturn\u001b[0m \u001b[0minner_f\u001b[0m\u001b[0;34m\u001b[0m\u001b[0;34m\u001b[0m\u001b[0m\n\u001b[1;32m     75\u001b[0m \u001b[0;34m\u001b[0m\u001b[0m\n",
      "\u001b[0;32m/opt/anaconda3/lib/python3.8/site-packages/sklearn/cluster/_kmeans.py\u001b[0m in \u001b[0;36mk_means\u001b[0;34m(X, n_clusters, sample_weight, init, precompute_distances, n_init, max_iter, verbose, tol, random_state, copy_x, n_jobs, algorithm, return_n_iter)\u001b[0m\n\u001b[1;32m    312\u001b[0m         \u001b[0mReturned\u001b[0m \u001b[0monly\u001b[0m \u001b[0;32mif\u001b[0m\u001b[0;31m \u001b[0m\u001b[0;31m`\u001b[0m\u001b[0mreturn_n_iter\u001b[0m\u001b[0;31m`\u001b[0m \u001b[0;32mis\u001b[0m \u001b[0mset\u001b[0m \u001b[0mto\u001b[0m \u001b[0;32mTrue\u001b[0m\u001b[0;34m.\u001b[0m\u001b[0;34m\u001b[0m\u001b[0;34m\u001b[0m\u001b[0m\n\u001b[1;32m    313\u001b[0m     \"\"\"\n\u001b[0;32m--> 314\u001b[0;31m     est = KMeans(\n\u001b[0m\u001b[1;32m    315\u001b[0m         \u001b[0mn_clusters\u001b[0m\u001b[0;34m=\u001b[0m\u001b[0mn_clusters\u001b[0m\u001b[0;34m,\u001b[0m \u001b[0minit\u001b[0m\u001b[0;34m=\u001b[0m\u001b[0minit\u001b[0m\u001b[0;34m,\u001b[0m \u001b[0mn_init\u001b[0m\u001b[0;34m=\u001b[0m\u001b[0mn_init\u001b[0m\u001b[0;34m,\u001b[0m \u001b[0mmax_iter\u001b[0m\u001b[0;34m=\u001b[0m\u001b[0mmax_iter\u001b[0m\u001b[0;34m,\u001b[0m\u001b[0;34m\u001b[0m\u001b[0;34m\u001b[0m\u001b[0m\n\u001b[1;32m    316\u001b[0m         \u001b[0mverbose\u001b[0m\u001b[0;34m=\u001b[0m\u001b[0mverbose\u001b[0m\u001b[0;34m,\u001b[0m \u001b[0mprecompute_distances\u001b[0m\u001b[0;34m=\u001b[0m\u001b[0mprecompute_distances\u001b[0m\u001b[0;34m,\u001b[0m \u001b[0mtol\u001b[0m\u001b[0;34m=\u001b[0m\u001b[0mtol\u001b[0m\u001b[0;34m,\u001b[0m\u001b[0;34m\u001b[0m\u001b[0;34m\u001b[0m\u001b[0m\n",
      "\u001b[0;32m/opt/anaconda3/lib/python3.8/site-packages/sklearn/cluster/_kmeans.py\u001b[0m in \u001b[0;36mfit\u001b[0;34m(self, X, y, sample_weight)\u001b[0m\n\u001b[1;32m    989\u001b[0m             )\n\u001b[1;32m    990\u001b[0m \u001b[0;34m\u001b[0m\u001b[0m\n\u001b[0;32m--> 991\u001b[0;31m         X = self._validate_data(X, accept_sparse='csr',\n\u001b[0m\u001b[1;32m    992\u001b[0m                                 \u001b[0mdtype\u001b[0m\u001b[0;34m=\u001b[0m\u001b[0;34m[\u001b[0m\u001b[0mnp\u001b[0m\u001b[0;34m.\u001b[0m\u001b[0mfloat64\u001b[0m\u001b[0;34m,\u001b[0m \u001b[0mnp\u001b[0m\u001b[0;34m.\u001b[0m\u001b[0mfloat32\u001b[0m\u001b[0;34m]\u001b[0m\u001b[0;34m,\u001b[0m\u001b[0;34m\u001b[0m\u001b[0;34m\u001b[0m\u001b[0m\n\u001b[1;32m    993\u001b[0m                                 \u001b[0morder\u001b[0m\u001b[0;34m=\u001b[0m\u001b[0;34m'C'\u001b[0m\u001b[0;34m,\u001b[0m \u001b[0mcopy\u001b[0m\u001b[0;34m=\u001b[0m\u001b[0mself\u001b[0m\u001b[0;34m.\u001b[0m\u001b[0mcopy_x\u001b[0m\u001b[0;34m,\u001b[0m\u001b[0;34m\u001b[0m\u001b[0;34m\u001b[0m\u001b[0m\n",
      "\u001b[0;32m/opt/anaconda3/lib/python3.8/site-packages/sklearn/base.py\u001b[0m in \u001b[0;36m_validate_data\u001b[0;34m(self, X, y, reset, validate_separately, **check_params)\u001b[0m\n\u001b[1;32m    418\u001b[0m                     \u001b[0;34mf\"requires y to be passed, but the target y is None.\"\u001b[0m\u001b[0;34m\u001b[0m\u001b[0;34m\u001b[0m\u001b[0m\n\u001b[1;32m    419\u001b[0m                 )\n\u001b[0;32m--> 420\u001b[0;31m             \u001b[0mX\u001b[0m \u001b[0;34m=\u001b[0m \u001b[0mcheck_array\u001b[0m\u001b[0;34m(\u001b[0m\u001b[0mX\u001b[0m\u001b[0;34m,\u001b[0m \u001b[0;34m**\u001b[0m\u001b[0mcheck_params\u001b[0m\u001b[0;34m)\u001b[0m\u001b[0;34m\u001b[0m\u001b[0;34m\u001b[0m\u001b[0m\n\u001b[0m\u001b[1;32m    421\u001b[0m             \u001b[0mout\u001b[0m \u001b[0;34m=\u001b[0m \u001b[0mX\u001b[0m\u001b[0;34m\u001b[0m\u001b[0;34m\u001b[0m\u001b[0m\n\u001b[1;32m    422\u001b[0m         \u001b[0;32melse\u001b[0m\u001b[0;34m:\u001b[0m\u001b[0;34m\u001b[0m\u001b[0;34m\u001b[0m\u001b[0m\n",
      "\u001b[0;32m/opt/anaconda3/lib/python3.8/site-packages/sklearn/utils/validation.py\u001b[0m in \u001b[0;36minner_f\u001b[0;34m(*args, **kwargs)\u001b[0m\n\u001b[1;32m     71\u001b[0m                           FutureWarning)\n\u001b[1;32m     72\u001b[0m         \u001b[0mkwargs\u001b[0m\u001b[0;34m.\u001b[0m\u001b[0mupdate\u001b[0m\u001b[0;34m(\u001b[0m\u001b[0;34m{\u001b[0m\u001b[0mk\u001b[0m\u001b[0;34m:\u001b[0m \u001b[0marg\u001b[0m \u001b[0;32mfor\u001b[0m \u001b[0mk\u001b[0m\u001b[0;34m,\u001b[0m \u001b[0marg\u001b[0m \u001b[0;32min\u001b[0m \u001b[0mzip\u001b[0m\u001b[0;34m(\u001b[0m\u001b[0msig\u001b[0m\u001b[0;34m.\u001b[0m\u001b[0mparameters\u001b[0m\u001b[0;34m,\u001b[0m \u001b[0margs\u001b[0m\u001b[0;34m)\u001b[0m\u001b[0;34m}\u001b[0m\u001b[0;34m)\u001b[0m\u001b[0;34m\u001b[0m\u001b[0;34m\u001b[0m\u001b[0m\n\u001b[0;32m---> 73\u001b[0;31m         \u001b[0;32mreturn\u001b[0m \u001b[0mf\u001b[0m\u001b[0;34m(\u001b[0m\u001b[0;34m**\u001b[0m\u001b[0mkwargs\u001b[0m\u001b[0;34m)\u001b[0m\u001b[0;34m\u001b[0m\u001b[0;34m\u001b[0m\u001b[0m\n\u001b[0m\u001b[1;32m     74\u001b[0m     \u001b[0;32mreturn\u001b[0m \u001b[0minner_f\u001b[0m\u001b[0;34m\u001b[0m\u001b[0;34m\u001b[0m\u001b[0m\n\u001b[1;32m     75\u001b[0m \u001b[0;34m\u001b[0m\u001b[0m\n",
      "\u001b[0;32m/opt/anaconda3/lib/python3.8/site-packages/sklearn/utils/validation.py\u001b[0m in \u001b[0;36mcheck_array\u001b[0;34m(array, accept_sparse, accept_large_sparse, dtype, order, copy, force_all_finite, ensure_2d, allow_nd, ensure_min_samples, ensure_min_features, estimator)\u001b[0m\n\u001b[1;32m    611\u001b[0m             \u001b[0;31m# If input is scalar raise error\u001b[0m\u001b[0;34m\u001b[0m\u001b[0;34m\u001b[0m\u001b[0;34m\u001b[0m\u001b[0m\n\u001b[1;32m    612\u001b[0m             \u001b[0;32mif\u001b[0m \u001b[0marray\u001b[0m\u001b[0;34m.\u001b[0m\u001b[0mndim\u001b[0m \u001b[0;34m==\u001b[0m \u001b[0;36m0\u001b[0m\u001b[0;34m:\u001b[0m\u001b[0;34m\u001b[0m\u001b[0;34m\u001b[0m\u001b[0m\n\u001b[0;32m--> 613\u001b[0;31m                 raise ValueError(\n\u001b[0m\u001b[1;32m    614\u001b[0m                     \u001b[0;34m\"Expected 2D array, got scalar array instead:\\narray={}.\\n\"\u001b[0m\u001b[0;34m\u001b[0m\u001b[0;34m\u001b[0m\u001b[0m\n\u001b[1;32m    615\u001b[0m                     \u001b[0;34m\"Reshape your data either using array.reshape(-1, 1) if \"\u001b[0m\u001b[0;34m\u001b[0m\u001b[0;34m\u001b[0m\u001b[0m\n",
      "\u001b[0;31mValueError\u001b[0m: Expected 2D array, got scalar array instead:\narray=6.0.\nReshape your data either using array.reshape(-1, 1) if your data has a single feature or array.reshape(1, -1) if it contains a single sample."
     ]
    }
   ],
   "source": [
    "def plot_graph(G, clusters):\n",
    "    plt.figure(1,figsize=(30,15))\n",
    "    nodes = G.nodes()\n",
    "    ec = nx.draw_networkx_edges(G, X, alpha=0.2)\n",
    "    nc = nx.draw_networkx_nodes(G, X, nodelist=nodes, node_color=clusters, node_size=100, cmap=plt.cm.jet)\n",
    "\n",
    "    plt.axis('off')\n",
    "    plt.show()\n",
    "\n",
    "your_clusters = spect_cluster(G, k=6)   \n",
    "plot_graph(G, your_clusters)\n"
   ]
  },
  {
   "cell_type": "markdown",
   "metadata": {},
   "source": [
    "### Task 2.2.4 (1 points)\n",
    "\n",
    "Finally, use your implementation of spectral clustering with different Laplacians and different values of $k \\in [2,7]$ and plot the results using the helper function ```plot_graph```. \n",
    "\n",
    "<span style='color: green'>**\\[Describe\\]**</span> the results you obtain. Especially, what is the difference between the Random Walk and the Normalized Laplacians, if any? How do you explain such differences? "
   ]
  },
  {
   "cell_type": "code",
   "execution_count": null,
   "metadata": {},
   "outputs": [],
   "source": [
    "for method in ['normal', 'random']: \n",
    "    for k in np.arange(2,8): \n",
    "        your_clusters = spect_cluster(G,eig_type=method, k=k)\n",
    "        plot_graph(G, your_clusters)"
   ]
  },
  {
   "cell_type": "markdown",
   "metadata": {},
   "source": [
    "******************\n",
    "The differences between random walk and normalized Laplacians arise from the sums of the rows/colums. As seen with the definition the random walk Laplacian sum of each row is 0. This is not true for the normalized. This results the distances to be slighty smaller on the normalized data and such the characteristics of clusters are need more fine tuning. \n",
    "******************"
   ]
  },
  {
   "cell_type": "markdown",
   "metadata": {},
   "source": [
    "### Task 2.2.5 (4 points)\n",
    "<span style='color: green'>**\\[Implement\\]**</span> the modularity. Recall that the definition of modularity for a set of communities $C$ is\n",
    "$$ \n",
    "Q=\\frac{1}{2 m} \\sum_{c \\in C} \\sum_{i \\in c} \\sum_{j \\in c}\\left(A_{i j}-\\frac{d_{i} d_{j}}{2 m}\\right) \\qquad \\qquad (1) \n",
    "$$\n",
    "where $A$ is the adjacency matrix, and $d_i$ is the degree of node $i$\n",
    "\n",
    "**Note**: Use ```plot_graph``` function in order to see for yourself if maximising modularity leads a better clustering. If you did not succeed with the previous Task, you are allowed to use [Scikit Learn Spectral Clustering](https://scikit-learn.org/stable/modules/generated/sklearn.cluster.SpectralClustering.html)"
   ]
  },
  {
   "cell_type": "code",
   "execution_count": 35,
   "metadata": {},
   "outputs": [],
   "source": [
    "def modularity(G, clustering):\n",
    "    modularity = 0\n",
    "    ### YOUR CODE STARTS HERE\n",
    "    \n",
    "    m = G.number_of_edges()\n",
    "\n",
    "    for c in set(clustering.values()):\n",
    "        nodes_c = [n for n in clustering.keys() if clustering[n] == c]\n",
    "        subgraph = G.subgraph(nodes_c)\n",
    "        intdeg = subgraph.number_of_edges() / (2*m)\n",
    "        extdeg = sum(G.degree(n) for n in nodes_c) / (2*m)\n",
    "        modularity += intdeg - extdeg**2\n",
    "\n",
    "    ### YOUR CODE ENDS HERE\n",
    "    return modularity"
   ]
  },
  {
   "cell_type": "markdown",
   "metadata": {},
   "source": [
    "### Task 2.2.6 (2 points)\n",
    "\n",
    "Compute the modularity of your Spectral Clustering Implementation for different values of $k$. \n",
    "\n",
    "<span style='color: green'>**\\[Motivate\\]**</span> Which $k$ value maximizes the modularity? From your perspective, does spectral clustering forms \"clear\" clusters for the best $k$ found by modularity? Using the spectral graph theory, why do you think this is/isn't the case? "
   ]
  },
  {
   "cell_type": "code",
   "execution_count": 36,
   "metadata": {},
   "outputs": [
    {
     "ename": "NameError",
     "evalue": "name 'spect_cluster' is not defined",
     "output_type": "error",
     "traceback": [
      "\u001b[0;31m---------------------------------------------------------------------------\u001b[0m",
      "\u001b[0;31mNameError\u001b[0m                                 Traceback (most recent call last)",
      "\u001b[0;32m<ipython-input-36-65f27e3b637c>\u001b[0m in \u001b[0;36m<module>\u001b[0;34m\u001b[0m\n\u001b[1;32m      2\u001b[0m \u001b[0mks\u001b[0m \u001b[0;34m=\u001b[0m \u001b[0;34m[\u001b[0m\u001b[0;36m1\u001b[0m\u001b[0;34m,\u001b[0m \u001b[0;36m2\u001b[0m\u001b[0;34m,\u001b[0m \u001b[0;36m3\u001b[0m\u001b[0;34m,\u001b[0m \u001b[0;36m4\u001b[0m\u001b[0;34m,\u001b[0m \u001b[0;36m5\u001b[0m\u001b[0;34m,\u001b[0m \u001b[0;36m6\u001b[0m\u001b[0;34m,\u001b[0m \u001b[0;36m7\u001b[0m\u001b[0;34m,\u001b[0m \u001b[0;36m8\u001b[0m\u001b[0;34m,\u001b[0m \u001b[0;36m9\u001b[0m\u001b[0;34m,\u001b[0m \u001b[0;36m10\u001b[0m\u001b[0;34m,\u001b[0m \u001b[0;36m11\u001b[0m\u001b[0;34m]\u001b[0m\u001b[0;34m\u001b[0m\u001b[0;34m\u001b[0m\u001b[0m\n\u001b[1;32m      3\u001b[0m \u001b[0;32mfor\u001b[0m \u001b[0mk\u001b[0m \u001b[0;32min\u001b[0m \u001b[0mks\u001b[0m\u001b[0;34m:\u001b[0m\u001b[0;34m\u001b[0m\u001b[0;34m\u001b[0m\u001b[0m\n\u001b[0;32m----> 4\u001b[0;31m     \u001b[0mclusters\u001b[0m \u001b[0;34m=\u001b[0m \u001b[0mspect_cluster\u001b[0m\u001b[0;34m(\u001b[0m\u001b[0mG\u001b[0m\u001b[0;34m,\u001b[0m \u001b[0mk\u001b[0m\u001b[0;34m=\u001b[0m\u001b[0mk\u001b[0m\u001b[0;34m)\u001b[0m \u001b[0;31m### NOTE: If you do not use your implementation substitute with a call to the sklearn one.\u001b[0m\u001b[0;34m\u001b[0m\u001b[0;34m\u001b[0m\u001b[0m\n\u001b[0m\u001b[1;32m      5\u001b[0m     \u001b[0mmods\u001b[0m\u001b[0;34m.\u001b[0m\u001b[0mappend\u001b[0m\u001b[0;34m(\u001b[0m\u001b[0mmodularity\u001b[0m\u001b[0;34m(\u001b[0m\u001b[0mG\u001b[0m\u001b[0;34m,\u001b[0m \u001b[0mclusters\u001b[0m\u001b[0;34m)\u001b[0m\u001b[0;34m)\u001b[0m\u001b[0;34m\u001b[0m\u001b[0;34m\u001b[0m\u001b[0m\n\u001b[1;32m      6\u001b[0m \u001b[0;34m\u001b[0m\u001b[0m\n",
      "\u001b[0;31mNameError\u001b[0m: name 'spect_cluster' is not defined"
     ]
    }
   ],
   "source": [
    "mods = []\n",
    "ks = [1, 2, 3, 4, 5, 6, 7, 8, 9, 10, 11]\n",
    "for k in ks:\n",
    "    clusters = spect_cluster(G, k=k) ### NOTE: If you do not use your implementation substitute with a call to the sklearn one. \n",
    "    mods.append(modularity(G, clusters))\n",
    "\n",
    "# You may want to use plt.plot to plot the modularity for different values of k\n",
    "plt.plot(ks, mods)\n",
    "print(mods)"
   ]
  },
  {
   "cell_type": "markdown",
   "metadata": {},
   "source": [
    "******************\n",
    "From my perspective, spectral clustering could form \"clear\" clusters for the best k found by modularity but it is not always the case as it depends on several factors.\n",
    "\n",
    "Spectral clustering uses eigenvectors of a Laplacian graph to find low-dimensional representations of the given data to preserve its structure. The code will first construct a similarity graph and then compute the Laplacian matrix before applying eigenvalue decomposition to obtain corresponding eigenvectors to the k smallest eigenvalues. The data is then clustered into k groups based on these eigenvalues. Hence, the quality of results depends heavily on the k chosen. If k is too small, the clusters might not be well defined enough to show the structure of the data. But if k is too large, data may be overfit and there may not be any meaningful interpretation of results. Thus, when data is noisy, high-dimensional or contains overlapping clusters, spectral clustering might not be able to form \"clear\" clusters.\n",
    "\n",
    "******************"
   ]
  },
  {
   "cell_type": "markdown",
   "metadata": {},
   "source": [
    "### Task 2.2.7 (2 points)\n",
    "\n",
    "<span style='color: green'>**\\[Motivate\\]**</span> There seems to be a relationship between graph embeddings and spectral clustering, can you guess that? _Hint_: Think to the eigenvectors of the graph's Laplacians. (1) Check the correct box below and (2) motivate your answer."
   ]
  },
  {
   "cell_type": "markdown",
   "metadata": {},
   "source": [
    "* [x] If the embeddings are linear and the similarity is the Laplacian, the embeddings we obtain minimizing the L_2 norm are equivalent to the eigenvectors of the Laplacian. \n",
    "* [ ] If the embeddings are random-walk-based embeddings, the eigenvectors of the Random Walk Laplacian are related to the embeddings obtained by such methods. \n",
    "* [ ] The relationship is just apparent. \n",
    "* [ ] If the embeddings are linear and the similarity is the Adjacency matrix, the eigenvectors of the Laplacian are equivalent to the embeddings. \n",
    "\n",
    "<font color='red'>IMPORTANT: Do NOT just choose one answer. Please clarify WHY this is the correct answer.</font>"
   ]
  },
  {
   "cell_type": "markdown",
   "metadata": {},
   "source": [
    "******************\n",
    "According the the spectral embedding theorem, the eigenvectors of the normalized Laplacian graph can be used as coordinates to embed the nodes of a graph in a low-dimensional Euclidean space. More specifically, the i-th coordinate of the embedding of node j is given by the i-th element of the eigenvector corresponding to the i-th smallest eigenvalue in the Laplacian matrix. The embeddings we obtain minimizing the L_2 norm are also equivalent to the eigenvectors of the Laplacian matrix and is also known as the Laplacian eigenmap. This is only true when similarity is based on Laplacian matrix and not for other types of embeddings or measures.\n",
    "******************"
   ]
  },
  {
   "cell_type": "markdown",
   "metadata": {},
   "source": [
    "# Part 3: Link analysis\n",
    "In this exercise, we will work with PageRank, Random Walks and their relationships with graph properties. \n",
    "We will use the most generic definition\n",
    "\n",
    "$$\\mathbf{r} = \\alpha \\mathbf{Mr} + (1-\\alpha)\\mathbf{p}$$\n",
    "\n",
    "with $\\mathbf{r}$ the PageRank vector, $\\mathbf{M}$ the weighted transition matrix, and $\\mathbf{p}$ the personalization vector. \n",
    "Additionally, let $n = |V|$, where $V$ is the nodes in the graph above.\n",
    "Remember that in the case of PageRank the entries of the personalization vector are $p_i = 1/n$ for all $i$.  \n"
   ]
  },
  {
   "cell_type": "markdown",
   "metadata": {},
   "source": [
    "## Task 3.1 Approximate PageRank (10 points)"
   ]
  },
  {
   "cell_type": "markdown",
   "metadata": {},
   "source": [
    "### Task 3.1.1 (3 points)\n",
    "\n",
    "<span style='color: green'>**\\[Implement\\]**</span>  a different algorithm for computing Personalized PageRank. This algorithm runs a fixed number of iterations and uses the definition of random walks. \n",
    "At each step, the algorithm either selects a random neighbor with probability $\\alpha$ or returns to the starting node with probability $1-\\alpha$. Every time a node is visited a counter on the node is incremented by one. Initially, each counter is 0. The final ppr value is the values in the nodes divided by the number of iterations. "
   ]
  },
  {
   "cell_type": "code",
   "execution_count": 15,
   "metadata": {},
   "outputs": [],
   "source": [
    "import random\n",
    "def approx_personalized_pagerank(G, node, alpha = 0.85, iterations = 1000): \n",
    "    ppr = np.zeros(G.number_of_nodes())\n",
    "    ### YOUR CODE STARTS HERE\n",
    "    next = node\n",
    "    nn= G.number_of_nodes()-1\n",
    "    \n",
    "    for i in range(iterations):\n",
    "        prob = random.randint(0,100)/100\n",
    "        if (prob<alpha): #See if we should go to neighbour or jump\n",
    "            nneigh = []\n",
    "            for edge in edgelist: #let's find out where we can jump\n",
    "                if (edge[0]==next):\n",
    "                    nneigh.append(edge[1])\n",
    "            if (len(nneigh)==0): #we should jump if there are no neighbours\n",
    "                j = random.randint(0,nn) #Choose the index of a next node from the whole set\n",
    "                ppr[j]+=1 #count the jump\n",
    "                next = j #G[j]\n",
    "                continue\n",
    "            j = random.randint(0,len(nneigh)-1) #Choose the index of a next node of neighbours\n",
    "            next = nneigh[j]\n",
    "            ppr[next]+=1 #count the jump\n",
    "            node = j #G[next] \n",
    "        else: #if we jump\n",
    "            j = random.randint(0,nn) #Choose the index of a next node from the whole set\n",
    "            ppr[j]+=1 #count the jump\n",
    "            next = j #G[j] \n",
    "    ### YOUR CODE ENDS HERE\n",
    "    return ppr"
   ]
  },
  {
   "cell_type": "markdown",
   "metadata": {},
   "source": [
    "### Task 3.1.2 (3 points)\n",
    "\n",
    "Run the ```approx_personalized_pagerank``` with default $\\alpha$ and iterations $\\{10, n, 2n, 4n, 100n, 1000n\\}$ where $n$ is the number of nodes in the graph and starting node the node with the highest PageRank computed in Task 3.1.2.\n",
    "\n",
    "<span style='color: green'>**\\[Motivate\\]**</span> what you notice as the number of iterations increase. Why are the values and the top-10 nodes ranked by PPR changing so much? "
   ]
  },
  {
   "cell_type": "code",
   "execution_count": null,
   "metadata": {},
   "outputs": [],
   "source": [
    "edgelist = read_edge_list('./data/edges.txt')\n",
    "n = np.max(edgelist)+1\n",
    "G = nx.Graph()\n",
    "for i in range(n):\n",
    "    G.add_node(i)\n",
    "for edge in edgelist:\n",
    "    G.add_edge(edge[0], edge[1])\n",
    "starting_node = np.argmax(nx.pagerank(G))\n",
    "for i, iterations in enumerate([10, G.number_of_nodes(), G.number_of_nodes()*2, G.number_of_nodes()*4, G.number_of_nodes()*100, G.number_of_nodes()*1000]):\n",
    "    r = approx_personalized_pagerank(G, starting_node, iterations = iterations)\n",
    "    r[starting_node] = 0\n",
    "    r_sorted = np.argsort(r)[::-1]\n",
    "    r_values = np.sort(r)[::-1]\n",
    "    print(f'Iteration {iterations}: top-10 r={r_sorted[:10]}\\n top-10 values={r_values[:10]}\\n')\n",
    "\n",
    "import operator\n",
    "rr = nx.pagerank(G, alpha=0.85, personalization = {starting_node: 1})\n",
    "rr[starting_node] = 0\n",
    "r=np.zeros(len(rr))\n",
    "for k in rr: r[k] = rr[k]\n",
    "r_sorted = np.argsort(r)[::-1]\n",
    "r_values = np.sort(r)[::-1]\n",
    "print(f'top-10 r={r_sorted[:10]}\\n top-10 values={r_values[:10]}\\n')"
   ]
  },
  {
   "cell_type": "markdown",
   "metadata": {},
   "source": [
    "******************\n",
    "The frequency of the nodes start to get bit closer together. To this 10 iterations is different. For example the spread of frequencies in 307 is wider than for 307000. It also seems like the same nodes are often visited in the iterations. That makes sense since nodes that have a lot of neighbours are more probable to be chosen. \n",
    "\n",
    "There is a lot of variation between the rankes. When the nuber if iterations is very small the probabilistic nature of the method doesn't show. It's like tossing a coin once and concluding that the only option is the one you get. \n",
    "The bigger the number of iterations gives a more average solution for the ranks.\n",
    "******************"
   ]
  },
  {
   "cell_type": "markdown",
   "metadata": {},
   "source": [
    "### Task 3.1.3 (2 points)\n",
    "\n",
    "Compare the 5 nodes with the highest PPR obtained from ```nx.pagerank(G, alpha=0.85, personalization={node_highest_pagerank: 1})``` and the one obtained by the approximation. \n",
    "\n",
    "<span style='color: green'>**\\[Describe\\]**</span> the differences. Does the number of iterations affect the results? Is there a relationship between the number of iterations and the results? Is there a relationship between the approximated value of PageRank and the real value? Do you notice anything as the number of iteration increases? "
   ]
  },
  {
   "cell_type": "code",
   "execution_count": null,
   "metadata": {},
   "outputs": [],
   "source": [
    "k = 5\n",
    "ppr_nx = nx.pagerank(G, alpha=0.85, personalization = {starting_node: 1})\n",
    "r_nx = [0 for _ in range(G.number_of_nodes())]\n",
    "for k, v in ppr_nx.items():\n",
    "    r_nx[k] = v\n",
    "r_est = approx_personalized_pagerank(G, starting_node, alpha=0.85)\n",
    "\n",
    "topk_nx = np.argsort(r_nx)[-5:]\n",
    "topk_est = np.argsort(r_est)[-5:]\n",
    "\n",
    "print(topk_nx, topk_est)\n",
    "\n",
    "for iterations in [10, G.number_of_nodes(), G.number_of_nodes()*2, G.number_of_nodes()*4, G.number_of_nodes()*100, G.number_of_nodes()*1000]:\n",
    "    print(f'Number of iterations {iterations}')\n",
    "    ppr_nx = nx.pagerank(G, alpha=0.85, personalization = {starting_node: 1})\n",
    "    r_nx = [0 for _ in range(G.number_of_nodes())]\n",
    "    for k, v in ppr_nx.items():\n",
    "        r_nx[k] = v\n",
    "    r_est = approx_personalized_pagerank(G, starting_node, iterations = iterations, alpha=0.85)\n",
    "    print(f'Approximate PPR: {r_est[:10]}')\n",
    "    print(f'Real PPR: {r_nx[:10]}')\n",
    "    \n",
    "    \n",
    "    topk_nx = np.argsort(r_nx)[-5:]\n",
    "    topk_est = np.argsort(r_est)[-5:]\n",
    "\n",
    "    print(f\"Topk of nx.pagerank: {topk_nx}, Topk of our estimation {topk_est}, Size of intersection: {len(set(topk_nx).intersection(set(topk_est)))}\")"
   ]
  },
  {
   "cell_type": "markdown",
   "metadata": {},
   "source": [
    "*****************\n",
    "It would seem that our method has some mistake left. Even by normalizing with the number of nodes the order of magniude isn't quite correct. Compared to the real one the approximate ones seem to be much closer and even. In the real one the first one seems to be quite large compared to the later ones. IT would seem that the bigger the number of iterations closet to the real one we get.\n",
    "*****************"
   ]
  },
  {
   "cell_type": "markdown",
   "metadata": {},
   "source": [
    "### Task 3.1.4 (2 points)\n",
    "\n",
    "Run again the same experiment but this time use $\\alpha = 0.1$. \n",
    "\n",
    "<span style='color: green'>**\\[Motivate\\]**</span> Motivate whether and why you need more or less iterations to predict the 5 nodes with the highest PPR."
   ]
  },
  {
   "cell_type": "code",
   "execution_count": null,
   "metadata": {},
   "outputs": [],
   "source": [
    "for iterations in [10, G.number_of_nodes(), G.number_of_nodes()*2, G.number_of_nodes()*4, G.number_of_nodes()*100]:\n",
    "    ppr_nx = nx.pagerank(G, alpha=0.1, personalization = {starting_node: 1})\n",
    "    r_nx = [0 for _ in range(G.number_of_nodes())]\n",
    "    for k, v in ppr_nx.items():\n",
    "        r_nx[k] = v\n",
    "    r_est = approx_personalized_pagerank(G, starting_node, iterations = iterations, alpha=0.1)\n",
    "\n",
    "    topk_nx = np.argsort(r_nx)[-5:]\n",
    "    topk_est = np.argsort(r_est)[-5:]\n",
    "\n",
    "    print(f\"Topk of nx.pagerank: {topk_nx}, Topk of our estimation {topk_est}, Size of intersection: {len(set(topk_nx).intersection(set(topk_est)))}\")\n",
    "    "
   ]
  },
  {
   "cell_type": "markdown",
   "metadata": {},
   "source": [
    "*****************\n",
    "It would seems that method is able to catch some of the most visited nodes. It's very apparent that 10 is way too few for this data set. In this instance  the bigger iterations don't have that much difference between them. It looks that after a certain point more iterations doesn't give better results but just takes longer. So as long as the number of iterations is greater than the number of nodes the method gives a good enough approximation.\n",
    "*****************"
   ]
  },
  {
   "cell_type": "markdown",
   "metadata": {},
   "source": [
    "## Task 3.2 Spam and link farms (12 points)"
   ]
  },
  {
   "cell_type": "markdown",
   "metadata": {},
   "source": [
    "We will now study the effect of spam in the network and construct a link farm. In this part, if you want to modify the graph, use a copy of the original graph every time you run your code, so that you do not keep adding modifications."
   ]
  },
  {
   "cell_type": "code",
   "execution_count": null,
   "metadata": {},
   "outputs": [],
   "source": [
    "edgelist = read_edge_list('./data/edges.txt')\n",
    "n = np.max(edgelist)+1\n",
    "G2 = nx.Graph()\n",
    "for i in range(n):\n",
    "    G2.add_node(i)\n",
    "for edge in edgelist:\n",
    "    G2.add_edge(edge[0], edge[1])\n",
    "G = G2.copy()"
   ]
  },
  {
   "cell_type": "markdown",
   "metadata": {},
   "source": [
    "### Task 3.2.1 (3 points)\n",
    "Based on the analysis in the slides, construct a spam farm $s$ on the graph $G$ with $T$ fake nodes. Assume that $s$ manages to get links from node 1. With $\\alpha=0.5$, \n",
    "\n",
    "<span style='color: green'>**\\[Describe\\]**</span> which is the minimum number of pages $T$ that we you need to add in order to get $s$ being assigned the highest PageRank?"
   ]
  },
  {
   "cell_type": "code",
   "execution_count": null,
   "metadata": {},
   "outputs": [],
   "source": [
    "#CODE HERE IF YOU NEED THAT"
   ]
  },
  {
   "cell_type": "markdown",
   "metadata": {},
   "source": [
    "******************\n",
    "As aplha in 0.5 in half of the cases we move on to a neighbour and in half teleport. As a general principle you the highest PageRank is the node that has the most connection so T should be so that the desired node gets the biggest value. Sometimes the value doesn't have to be as big is the node already has good connections. If it's neighbour nodes are well connected T can be smaller than for a node thats neighbours have very few connections.\n",
    "******************"
   ]
  },
  {
   "cell_type": "markdown",
   "metadata": {},
   "source": [
    "### Task 3.2.2 (3 points)\n",
    "In the above scenario, assume that $T = \\frac{1}{5}$ of the nodes in the original graph. \n",
    "\n",
    "<span style='color: green'>**\\[Motivate\\]**</span> what value of $\\alpha$ will maximize the PageRank $\\mathbf{r}_s$ of the link farm $s$. Provide sufficient justification for your choice."
   ]
  },
  {
   "cell_type": "markdown",
   "metadata": {},
   "source": [
    "******************\n",
    "A good choice would be quite a large alpha. As the fake nodes are connected to the one node s have none other edges you would end up visiting the central node s quite often. Large alpha would mean that it was more like to get more stuck in those fake edges. Large alpha means that it is more likely to jump to a neighbour node. With a small alpha there would be a lot of teleporting. That means that the node s wouldn't gain any extra probablity for the fake nodes.\n",
    "******************"
   ]
  },
  {
   "cell_type": "markdown",
   "metadata": {},
   "source": [
    "### Task 3.2.3 (3 points)\n",
    "\n",
    "Now we fix both $\\alpha = 0.5$ and $T = \\frac{1}{5}n$. \n",
    "\n",
    "<span style='color: green'>**\\[Implement\\]**</span>  ```trusted_pagerank``` the method for spam mass estimation."
   ]
  },
  {
   "cell_type": "code",
   "execution_count": 16,
   "metadata": {},
   "outputs": [],
   "source": [
    "def trusted_pagerank(G, trusted_indices, iterations=500, alpha=0.5):\n",
    "    r = None   \n",
    "    ### YOUR CODE STARTS HERE\n",
    "    rplus = np.zeros(G.number_of_nodes())\n",
    "    next = 0\n",
    "    k = random.randint(0,G.number_of_nodes()-1)\n",
    "    nn = trusted_indices.number_of_nodes()-1\n",
    "    \n",
    "    rank = approx_personalized_pagerank(G, 0, alpha, iterations) #Get the page rank of every node\n",
    "    \n",
    "    for i in range(iterations): #get the pagerank when just jumping to trusted nodes\n",
    "        next = random.randint(0,nn) #Choose the index of a next node from the whole set\n",
    "        rplus[next]+=1 #count the jump\n",
    "        node = trusted_indices[next]\n",
    "            \n",
    "    for i in range(len(G)):\n",
    "        r[i]=(rank[i]-rplus[i])/rank[i]\n",
    "    \n",
    "    ### YOUR CODE ENDS HERE\n",
    "    return r\n"
   ]
  },
  {
   "cell_type": "markdown",
   "metadata": {},
   "source": [
    "### Task 3.2.4 (3 points)\n",
    "\n",
    "<span style='color: green'>**\\[Motivate\\]**</span> whether we are able to detect the node $s$, if the trusted set of nodes is a random sample $10\\%$ of the nodes in the original graph. \n",
    "If not, what could be a viable solution? Which nodes would you rather choose as trusted?\n",
    "\n",
    "You are not obliged to, but you can write some helper code to reach the answer faster.  \n",
    "\n",
    "_Hint_: Remember the spam mass formula in the Link Analysis lecture"
   ]
  },
  {
   "cell_type": "markdown",
   "metadata": {},
   "source": [
    "*******************\n",
    "In the solution we used the spam mass to estimate if page could be trusted. We would of course have to set some limit of what a trusted value would be. Anything with too high mass would be labeled as spam. You could also choose some deviation from a trusted value and anything that differs too much from it would be labeled as spam. \n",
    "******************"
   ]
  },
  {
   "cell_type": "markdown",
   "metadata": {},
   "source": [
    "# Part 4: Graph embeddings (19 points)\n",
    "In this final part, we will try a different approach for clustering the data from above. \n",
    "The strategy is going to be the following:\n",
    "\n",
    "1. Use VERSE [[1]](https://arxiv.org/pdf/1803.04742.pdf) to produce embeddings of the nodes in the graph.\n",
    "2. Use K-Means to cluster the embeddings. Measure and report NMI for the clustering. \n",
    "\n",
    "[[1](https://arxiv.org/pdf/1803.04742.pdf)] Tsitsulin, A., Mottin, D., Karras, P. and Müller, E., 2018, April. Verse: Versatile graph embeddings from similarity measures. In Proceedings of the 2018 World Wide Web Conference (pp. 539-548)."
   ]
  },
  {
   "cell_type": "code",
   "execution_count": 39,
   "metadata": {},
   "outputs": [
    {
     "name": "stdout",
     "output_type": "stream",
     "text": [
      "/Users/sohfamilymacbookair13/Documents/GitHub/dm2023-exercises/handins\n"
     ]
    }
   ],
   "source": [
    "from utilities.load_data import load_mnist\n",
    "import utilities.email as email\n",
    "from utilities.mnist import *\n",
    "\n",
    "from utilities.make_graphs import read_edge_list, read_list, load_data"
   ]
  },
  {
   "cell_type": "code",
   "execution_count": 40,
   "metadata": {},
   "outputs": [],
   "source": [
    "G = email.S_dir.copy()"
   ]
  },
  {
   "cell_type": "markdown",
   "metadata": {},
   "source": [
    "## Task 4.1.1 (6 points)\n",
    "\n",
    "<span style='color: green'>**\\[Implement\\]**</span> the methods below to compute sampling version of VERSE. _Hint:_ it might be a help to look in the original article \\[1\\] above."
   ]
  },
  {
   "cell_type": "code",
   "execution_count": 57,
   "metadata": {},
   "outputs": [],
   "source": [
    "from scipy.sparse import identity\n",
    "\n",
    "def sigmoid(x):\n",
    "    ''' Return the sigmoid function of x \n",
    "        x: the input vector\n",
    "    '''\n",
    "    ### YOUR CODE STARTS HERE\n",
    "    \n",
    "    x = 1 / (1 + np.exp(-x))\n",
    "\n",
    "    ### YOUR CODE ENDS HERE\n",
    "    return x\n",
    "\n",
    "def pagerank_matrix(G, alpha = 0.85) :     \n",
    "    ''' Return the Personalized PageRank matrix of a graph\n",
    "\n",
    "        Args:\n",
    "            G: the input graph\n",
    "            alpha: the dumping factor of  PageRank\n",
    "\n",
    "        :return The nxn PageRank matrix P\n",
    "    '''\n",
    "    ### YOUR CODE STARTS HERE\n",
    "    \n",
    "    n = G.number_of_nodes()\n",
    "    A = np.array(nx.to_numpy_matrix(G))\n",
    "    D = np.diag(np.sum(A, axis=1))\n",
    "    L = D - A\n",
    "    P = alpha*np.linalg.inv(identity(n) - (1-alpha)*D/n) @ L\n",
    "\n",
    "    ### YOUR CODE ENDS HERE\n",
    "    return P\n",
    "    \n",
    "\n",
    "def update(u, v, Z, C, step_size) :\n",
    "    '''Update the matrix Z using row-wise gradients of the loss function\n",
    "\n",
    "       Args:\n",
    "            u : the first node\n",
    "            v : the second node\n",
    "            Z : the embedding matrix\n",
    "            C : the classification variable used in Noise Contrastive estimation indicating whether the sample is positive or negative\n",
    "            step_size: step size for gradient descent\n",
    "\n",
    "\n",
    "       :return nothing, just update rows Z[v,:] and and Z[u,:]\n",
    "    '''\n",
    "    ### YOUR CODE STARTS HERE\n",
    "    z_u = Z[u, :]\n",
    "    z_v = Z[v, :]\n",
    "    y = C - sigmoid(z_u @ z_v)\n",
    "    grad_u = -y * z_v\n",
    "    grad_v = -y * z_u\n",
    "    Z[u, :] -= step_size * grad_u\n",
    "    Z[v, :] -= step_size * grad_v\n",
    "    ### YOUR CODE ENDS HERE\n",
    "    \n",
    "    \n",
    "def verse(G, S, d, k = 3, step_size = 0.0025, steps = 10000): \n",
    "    ''' Return the sampled version of VERSE\n",
    "\n",
    "        Args:\n",
    "            G: the input Graph\n",
    "            S: the PageRank similarity matrix\n",
    "            d: dimension of the embedding space\n",
    "            k: number of negative samples\n",
    "            step_size: step size for gradient descent\n",
    "            steps: number of iterations\n",
    "\n",
    "        :return the embedding matrix nxd\n",
    "    '''\n",
    "    n = G.number_of_nodes()\n",
    "    Z = 1/d*np.random.rand(n,d)\n",
    "\n",
    "    ### YOUR CODE STARTS HERE\n",
    "    D = np.diag(np.sum(np.array(nx.to_numpy_matrix(G)), axis=1))\n",
    "    L = D - np.array(nx.to_numpy_matrix(G))\n",
    "    P = np.linalg.inv(D) @ L\n",
    "    node_list = list(G.nodes)\n",
    "    for i in range(steps):\n",
    "        u = np.random.choice(node_list)\n",
    "        v = np.random.choice(node_list)\n",
    "        while G.has_edge(u, v):\n",
    "            v = np.random.choice(node_list)\n",
    "        neg_samples = np.random.choice(node_list, size=k, replace=False)\n",
    "        update(u, v, Z, 1, step_size)\n",
    "        for neg in neg_samples:\n",
    "            update(u, neg, Z, 0, step_size)\n",
    "        update(v, u, Z, 1, step_size)\n",
    "        for neg in neg_samples:\n",
    "            update(v, neg, Z, 0, step_size)\n",
    "    ### YOUR CODE ENDS HERE\n",
    "    return Z"
   ]
  },
  {
   "cell_type": "code",
   "execution_count": 58,
   "metadata": {},
   "outputs": [],
   "source": [
    "# This code runs the `verse` algorithm above on G and stores the embeddings to 'verse.npy'\n",
    "P   = pagerank_matrix(G)\n",
    "emb = verse(G, P, 128, step_size=0.0025, steps=10_000)\n",
    "np.save('verse.npy', emb)"
   ]
  },
  {
   "cell_type": "markdown",
   "metadata": {},
   "source": [
    "### Task 4.1.2 (3 points)\n",
    "\n",
    "<span style='color: green'>**\\[Implement\\]**</span> a small piece of code that runs $k$-means on the embeddings with $k \\in [2,7]$ to evaluate the performance compared to Spectral clustering using the NMI as measure. You can use ```sklearn.metrics.normalized_mutual_info_score``` for the NMI and ```sklearn.cluster.KMeans``` for kmeans. In both cases, you can use your own implementation from Handin 1 or the exercises, but it will not give you extra points.  \n",
    "\n",
    "<span style='color: green'>**\\[Describe\\]**</span> which of the method performs the best and whether the results show similarities between the two methods"
   ]
  },
  {
   "cell_type": "code",
   "execution_count": 61,
   "metadata": {},
   "outputs": [
    {
     "ename": "ValueError",
     "evalue": "Found input variables with inconsistent numbers of samples: [0, 156]",
     "output_type": "error",
     "traceback": [
      "\u001b[0;31m---------------------------------------------------------------------------\u001b[0m",
      "\u001b[0;31mValueError\u001b[0m                                Traceback (most recent call last)",
      "\u001b[0;32m<ipython-input-61-065ae4eabdae>\u001b[0m in \u001b[0;36m<module>\u001b[0;34m\u001b[0m\n\u001b[1;32m     13\u001b[0m     \u001b[0mkmeans_labels\u001b[0m \u001b[0;34m=\u001b[0m \u001b[0mKMeans\u001b[0m\u001b[0;34m(\u001b[0m\u001b[0mn_clusters\u001b[0m\u001b[0;34m=\u001b[0m\u001b[0mk\u001b[0m\u001b[0;34m)\u001b[0m\u001b[0;34m.\u001b[0m\u001b[0mfit_predict\u001b[0m\u001b[0;34m(\u001b[0m\u001b[0memb\u001b[0m\u001b[0;34m)\u001b[0m\u001b[0;34m\u001b[0m\u001b[0;34m\u001b[0m\u001b[0m\n\u001b[1;32m     14\u001b[0m     \u001b[0mspectral_labels\u001b[0m \u001b[0;34m=\u001b[0m \u001b[0mSpectralClustering\u001b[0m\u001b[0;34m(\u001b[0m\u001b[0mn_clusters\u001b[0m\u001b[0;34m=\u001b[0m\u001b[0mk\u001b[0m\u001b[0;34m,\u001b[0m \u001b[0maffinity\u001b[0m\u001b[0;34m=\u001b[0m\u001b[0;34m'nearest_neighbors'\u001b[0m\u001b[0;34m)\u001b[0m\u001b[0;34m.\u001b[0m\u001b[0mfit_predict\u001b[0m\u001b[0;34m(\u001b[0m\u001b[0memb\u001b[0m\u001b[0;34m)\u001b[0m\u001b[0;34m\u001b[0m\u001b[0;34m\u001b[0m\u001b[0m\n\u001b[0;32m---> 15\u001b[0;31m     \u001b[0mnmi_kmeans\u001b[0m\u001b[0;34m.\u001b[0m\u001b[0mappend\u001b[0m\u001b[0;34m(\u001b[0m\u001b[0mnormalized_mutual_info_score\u001b[0m\u001b[0;34m(\u001b[0m\u001b[0mlist\u001b[0m\u001b[0;34m(\u001b[0m\u001b[0mnx\u001b[0m\u001b[0;34m.\u001b[0m\u001b[0mget_node_attributes\u001b[0m\u001b[0;34m(\u001b[0m\u001b[0mG\u001b[0m\u001b[0;34m,\u001b[0m \u001b[0;34m'club'\u001b[0m\u001b[0;34m)\u001b[0m\u001b[0;34m.\u001b[0m\u001b[0mvalues\u001b[0m\u001b[0;34m(\u001b[0m\u001b[0;34m)\u001b[0m\u001b[0;34m)\u001b[0m\u001b[0;34m,\u001b[0m \u001b[0mkmeans_labels\u001b[0m\u001b[0;34m)\u001b[0m\u001b[0;34m)\u001b[0m\u001b[0;34m\u001b[0m\u001b[0;34m\u001b[0m\u001b[0m\n\u001b[0m\u001b[1;32m     16\u001b[0m     \u001b[0mnmi_spectral\u001b[0m\u001b[0;34m.\u001b[0m\u001b[0mappend\u001b[0m\u001b[0;34m(\u001b[0m\u001b[0mnormalized_mutual_info_score\u001b[0m\u001b[0;34m(\u001b[0m\u001b[0mlist\u001b[0m\u001b[0;34m(\u001b[0m\u001b[0mnx\u001b[0m\u001b[0;34m.\u001b[0m\u001b[0mget_node_attributes\u001b[0m\u001b[0;34m(\u001b[0m\u001b[0mG\u001b[0m\u001b[0;34m,\u001b[0m \u001b[0;34m'club'\u001b[0m\u001b[0;34m)\u001b[0m\u001b[0;34m.\u001b[0m\u001b[0mvalues\u001b[0m\u001b[0;34m(\u001b[0m\u001b[0;34m)\u001b[0m\u001b[0;34m)\u001b[0m\u001b[0;34m,\u001b[0m \u001b[0mspectral_labels\u001b[0m\u001b[0;34m)\u001b[0m\u001b[0;34m)\u001b[0m\u001b[0;34m\u001b[0m\u001b[0;34m\u001b[0m\u001b[0m\n\u001b[1;32m     17\u001b[0m \u001b[0;34m\u001b[0m\u001b[0m\n",
      "\u001b[0;32m/opt/anaconda3/lib/python3.8/site-packages/sklearn/utils/validation.py\u001b[0m in \u001b[0;36minner_f\u001b[0;34m(*args, **kwargs)\u001b[0m\n\u001b[1;32m     71\u001b[0m                           FutureWarning)\n\u001b[1;32m     72\u001b[0m         \u001b[0mkwargs\u001b[0m\u001b[0;34m.\u001b[0m\u001b[0mupdate\u001b[0m\u001b[0;34m(\u001b[0m\u001b[0;34m{\u001b[0m\u001b[0mk\u001b[0m\u001b[0;34m:\u001b[0m \u001b[0marg\u001b[0m \u001b[0;32mfor\u001b[0m \u001b[0mk\u001b[0m\u001b[0;34m,\u001b[0m \u001b[0marg\u001b[0m \u001b[0;32min\u001b[0m \u001b[0mzip\u001b[0m\u001b[0;34m(\u001b[0m\u001b[0msig\u001b[0m\u001b[0;34m.\u001b[0m\u001b[0mparameters\u001b[0m\u001b[0;34m,\u001b[0m \u001b[0margs\u001b[0m\u001b[0;34m)\u001b[0m\u001b[0;34m}\u001b[0m\u001b[0;34m)\u001b[0m\u001b[0;34m\u001b[0m\u001b[0;34m\u001b[0m\u001b[0m\n\u001b[0;32m---> 73\u001b[0;31m         \u001b[0;32mreturn\u001b[0m \u001b[0mf\u001b[0m\u001b[0;34m(\u001b[0m\u001b[0;34m**\u001b[0m\u001b[0mkwargs\u001b[0m\u001b[0;34m)\u001b[0m\u001b[0;34m\u001b[0m\u001b[0;34m\u001b[0m\u001b[0m\n\u001b[0m\u001b[1;32m     74\u001b[0m     \u001b[0;32mreturn\u001b[0m \u001b[0minner_f\u001b[0m\u001b[0;34m\u001b[0m\u001b[0;34m\u001b[0m\u001b[0m\n\u001b[1;32m     75\u001b[0m \u001b[0;34m\u001b[0m\u001b[0m\n",
      "\u001b[0;32m/opt/anaconda3/lib/python3.8/site-packages/sklearn/metrics/cluster/_supervised.py\u001b[0m in \u001b[0;36mnormalized_mutual_info_score\u001b[0;34m(labels_true, labels_pred, average_method)\u001b[0m\n\u001b[1;32m    854\u001b[0m \u001b[0;34m\u001b[0m\u001b[0m\n\u001b[1;32m    855\u001b[0m     \"\"\"\n\u001b[0;32m--> 856\u001b[0;31m     \u001b[0mlabels_true\u001b[0m\u001b[0;34m,\u001b[0m \u001b[0mlabels_pred\u001b[0m \u001b[0;34m=\u001b[0m \u001b[0mcheck_clusterings\u001b[0m\u001b[0;34m(\u001b[0m\u001b[0mlabels_true\u001b[0m\u001b[0;34m,\u001b[0m \u001b[0mlabels_pred\u001b[0m\u001b[0;34m)\u001b[0m\u001b[0;34m\u001b[0m\u001b[0;34m\u001b[0m\u001b[0m\n\u001b[0m\u001b[1;32m    857\u001b[0m     \u001b[0mclasses\u001b[0m \u001b[0;34m=\u001b[0m \u001b[0mnp\u001b[0m\u001b[0;34m.\u001b[0m\u001b[0munique\u001b[0m\u001b[0;34m(\u001b[0m\u001b[0mlabels_true\u001b[0m\u001b[0;34m)\u001b[0m\u001b[0;34m\u001b[0m\u001b[0;34m\u001b[0m\u001b[0m\n\u001b[1;32m    858\u001b[0m     \u001b[0mclusters\u001b[0m \u001b[0;34m=\u001b[0m \u001b[0mnp\u001b[0m\u001b[0;34m.\u001b[0m\u001b[0munique\u001b[0m\u001b[0;34m(\u001b[0m\u001b[0mlabels_pred\u001b[0m\u001b[0;34m)\u001b[0m\u001b[0;34m\u001b[0m\u001b[0;34m\u001b[0m\u001b[0m\n",
      "\u001b[0;32m/opt/anaconda3/lib/python3.8/site-packages/sklearn/metrics/cluster/_supervised.py\u001b[0m in \u001b[0;36mcheck_clusterings\u001b[0;34m(labels_true, labels_pred)\u001b[0m\n\u001b[1;32m     59\u001b[0m         raise ValueError(\n\u001b[1;32m     60\u001b[0m             \"labels_pred must be 1D: shape is %r\" % (labels_pred.shape,))\n\u001b[0;32m---> 61\u001b[0;31m     \u001b[0mcheck_consistent_length\u001b[0m\u001b[0;34m(\u001b[0m\u001b[0mlabels_true\u001b[0m\u001b[0;34m,\u001b[0m \u001b[0mlabels_pred\u001b[0m\u001b[0;34m)\u001b[0m\u001b[0;34m\u001b[0m\u001b[0;34m\u001b[0m\u001b[0m\n\u001b[0m\u001b[1;32m     62\u001b[0m \u001b[0;34m\u001b[0m\u001b[0m\n\u001b[1;32m     63\u001b[0m     \u001b[0;32mreturn\u001b[0m \u001b[0mlabels_true\u001b[0m\u001b[0;34m,\u001b[0m \u001b[0mlabels_pred\u001b[0m\u001b[0;34m\u001b[0m\u001b[0;34m\u001b[0m\u001b[0m\n",
      "\u001b[0;32m/opt/anaconda3/lib/python3.8/site-packages/sklearn/utils/validation.py\u001b[0m in \u001b[0;36mcheck_consistent_length\u001b[0;34m(*arrays)\u001b[0m\n\u001b[1;32m    254\u001b[0m     \u001b[0muniques\u001b[0m \u001b[0;34m=\u001b[0m \u001b[0mnp\u001b[0m\u001b[0;34m.\u001b[0m\u001b[0munique\u001b[0m\u001b[0;34m(\u001b[0m\u001b[0mlengths\u001b[0m\u001b[0;34m)\u001b[0m\u001b[0;34m\u001b[0m\u001b[0;34m\u001b[0m\u001b[0m\n\u001b[1;32m    255\u001b[0m     \u001b[0;32mif\u001b[0m \u001b[0mlen\u001b[0m\u001b[0;34m(\u001b[0m\u001b[0muniques\u001b[0m\u001b[0;34m)\u001b[0m \u001b[0;34m>\u001b[0m \u001b[0;36m1\u001b[0m\u001b[0;34m:\u001b[0m\u001b[0;34m\u001b[0m\u001b[0;34m\u001b[0m\u001b[0m\n\u001b[0;32m--> 256\u001b[0;31m         raise ValueError(\"Found input variables with inconsistent numbers of\"\n\u001b[0m\u001b[1;32m    257\u001b[0m                          \" samples: %r\" % [int(l) for l in lengths])\n\u001b[1;32m    258\u001b[0m \u001b[0;34m\u001b[0m\u001b[0m\n",
      "\u001b[0;31mValueError\u001b[0m: Found input variables with inconsistent numbers of samples: [0, 156]"
     ]
    }
   ],
   "source": [
    "### YOUR CODE STARTS HERE\n",
    "from sklearn.cluster import SpectralClustering, KMeans\n",
    "from sklearn.metrics import normalized_mutual_info_score\n",
    "\n",
    "# i'm not really sure how to do this one T.T i keep getting an error code :( \n",
    "\n",
    "S = pagerank_matrix(G)\n",
    "emb = verse(G, S, d=16)\n",
    "\n",
    "nmi_kmeans = []\n",
    "nmi_spectral = []\n",
    "for k in range(2, 8):\n",
    "    kmeans_labels = KMeans(n_clusters=k).fit_predict(emb)\n",
    "    spectral_labels = SpectralClustering(n_clusters=k, affinity='nearest_neighbors').fit_predict(emb)\n",
    "    nmi_kmeans.append(normalized_mutual_info_score(list(nx.get_node_attributes(G, 'club').values()), kmeans_labels))\n",
    "    nmi_spectral.append(normalized_mutual_info_score(list(nx.get_node_attributes(G, 'club').values()), spectral_labels))\n",
    "\n",
    "print(\"NMI scores for k-means: \", nmi_kmeans)\n",
    "print(\"NMI scores for spectral clustering: \", nmi_spectral)\n",
    "\n",
    "\n",
    "### YOUR CODE ENDS HERE"
   ]
  },
  {
   "cell_type": "markdown",
   "metadata": {},
   "source": [
    "*******************\n",
    "<span style=\"color:red\">**YOUR ANSWER HERE**</span>\n",
    "******************"
   ]
  },
  {
   "cell_type": "markdown",
   "metadata": {},
   "source": [
    "### Task 4.1.3 (2 points)\n",
    "\n",
    "<span style='color: green'>**\\[Motivate\\]**</span> how you would conceptionally expand the way of embedding a graph, if you had a multi-label-graph. E.g. meaning you have multiple labels and each edge needs to have exacrly one of those. So you can also have multiple edges between the same nodes, as long as they have different labels."
   ]
  },
  {
   "cell_type": "markdown",
   "metadata": {},
   "source": [
    "*******************\n",
    "<span style=\"color:red\">I would use a multi-label embedding technique such as using a multi-label extension of the node2vec algorithm or using a graph convolutional network (GCN).</span>\n",
    "******************"
   ]
  },
  {
   "cell_type": "markdown",
   "metadata": {},
   "source": [
    "## Task 4.2 (8 points)\n",
    "\n",
    "**This is a hard exercise. Do it for fun or only if you are done with easier questions.**\n",
    "\n",
    "<span style='color: green'>**\\[Implement\\]**</span> a new GCN that optimizes for modularity. The loss function takes in input a matrix $C \\in \\mathbb{R}^{n\\times k}$ of embeddings for each of the nodes. \n",
    "$C$ represents the community assignment matrix, i.e. each entry $C_{ij}$ contains the probability that node $i$ belong to community $j$. \n",
    "\n",
    "The loss function is the following\n",
    "$$\n",
    "loss = - Tr(C^\\top B C) + l\\|C\\|_2\n",
    "$$ \n",
    "where $B$ is the modularity matrix that you will also implement, and $l$ is a regularization factor controlling the impact of the $L_2$ regularizer. \n",
    "We will implement a two-layer GCN similar to the one implemented in the exercises, but the last layer's activation fucntion is a Softmax. "
   ]
  },
  {
   "cell_type": "code",
   "execution_count": null,
   "metadata": {},
   "outputs": [],
   "source": [
    "import pykeen\n",
    "\n",
    "# Adjacency matrix\n",
    "G     = email.S_undir.copy()\n",
    "A     = np.array(nx.adj_matrix(G, weight=None).todense())\n",
    "I     = np.eye(A.shape[0])\n",
    "A     = A + I # Add self loop\n",
    "\n",
    "# Degree matrix\n",
    "### YOUR CODE HERE\n",
    "\n",
    "# Normalized Laplacian\n",
    "    \n",
    "# Create input vectors\n",
    "\n",
    "### TODO your code here\n",
    "\n",
    "X = torch.tensor(X, dtype=torch.float, requires_grad=True) # Indicate to pytorch that we need gradients for this variable\n",
    "As = torch.tensor(A, dtype=torch.float)\n",
    "L = torch.tensor(L, dtype=torch.float)  # We don't need to learn this so no grad required."
   ]
  },
  {
   "cell_type": "code",
   "execution_count": null,
   "metadata": {},
   "outputs": [],
   "source": [
    "# Define a GCN\n",
    "class GCNLayer(nn.Module):\n",
    "    def __init__(self, L, input_features, output_features, activation=F.relu):\n",
    "        \"\"\"\n",
    "            Inputs:\n",
    "                L:               The \"Laplacian\" of the graph, as defined above\n",
    "                input_features:  The size of the input embedding\n",
    "                output_features: The size of the output embedding \n",
    "                activation:      Activation function sigma\n",
    "        \"\"\"\n",
    "        super().__init__()\n",
    "        \n",
    "        ### TODO Your code here\n",
    "\n",
    "        \n",
    "        ### TODO Your code here\n",
    "     \n",
    "    def forward(self, X):\n",
    "        ### TODO Your code here\n",
    "\n",
    "        \n",
    "        ### TODO Your code here\n",
    "        return X"
   ]
  },
  {
   "cell_type": "markdown",
   "metadata": {},
   "source": [
    "Define the modularity matrix and the modularity loss"
   ]
  },
  {
   "cell_type": "code",
   "execution_count": null,
   "metadata": {},
   "outputs": [],
   "source": [
    "def modularity_matrix(A):\n",
    "    B = None\n",
    "    ### YOUR CODE HERE\n",
    "\n",
    "    ### YOUR CODE HERE\n",
    "    return torch.tensor(B, dtype=torch.float)\n",
    "\n",
    "def modularity_loss(C, B, l = 0.01): \n",
    "    ''' Return the modularity loss\n",
    "\n",
    "        Args:\n",
    "            C: the node-community affinity matrix\n",
    "            B: the modularity matrix\n",
    "            l: the regularization factor\n",
    "            \n",
    "        :return the modularity loss as described at the beginning of the exercise\n",
    "    '''\n",
    "    loss = 0\n",
    "    ### YOUR CODE HERE\n",
    "\n",
    "    \n",
    "    ### YOUR CODE HERE\n",
    "    return loss"
   ]
  },
  {
   "cell_type": "markdown",
   "metadata": {},
   "source": [
    "Compute labels from communities"
   ]
  },
  {
   "cell_type": "code",
   "execution_count": null,
   "metadata": {},
   "outputs": [],
   "source": [
    "### Compute labels from communities\n",
    "labels = None\n",
    "### YOUR CODE HERE\n",
    "\n",
    "\n",
    "### YOUR CODE HERE\n"
   ]
  },
  {
   "cell_type": "markdown",
   "metadata": {},
   "source": [
    "Create the model"
   ]
  },
  {
   "cell_type": "code",
   "execution_count": null,
   "metadata": {},
   "outputs": [],
   "source": [
    "from sklearn.preprocessing import LabelEncoder\n",
    "import torch.nn.functional as F\n",
    "\n",
    "device = torch.device('cuda' if torch.cuda.is_available() else 'cpu')\n",
    "\n",
    "### Encode the labels with one-hot encoding\n",
    "def to_categorical(y):\n",
    "    \"\"\" 1-hot encodes a tensor \"\"\"\n",
    "    num_classes = np.unique(y).size\n",
    "    return np.eye(num_classes, dtype='uint8')[y]\n",
    "\n",
    "def encode_label(labels):\n",
    "    label_encoder = LabelEncoder()\n",
    "    labels = label_encoder.fit_transform(labels)\n",
    "    labels = to_categorical(labels)\n",
    "    return labels, label_encoder.classes_\n",
    "\n",
    "y, classes = encode_label(labels)\n",
    "y = torch.tensor(y)\n",
    "\n",
    "# Define convolutional network\n",
    "in_features, out_features = X.shape[1], classes.size # output features as many as the number of classes\n",
    "hidden_dim = 16\n",
    "\n",
    "# Stack two GCN layers as our model\n",
    "# nn.Sequential is an implicit nn.Module, which uses the layers in given order as the forward pass\n",
    "gcn = nn.Sequential(\n",
    "    GCNLayer(L, in_features, hidden_dim),\n",
    "    GCNLayer(L, hidden_dim, out_features, None),\n",
    "    nn.Softmax(dim=1)\n",
    ")\n",
    "gcn.to(device)"
   ]
  },
  {
   "cell_type": "markdown",
   "metadata": {},
   "source": [
    "Train the unsupervised model once "
   ]
  },
  {
   "cell_type": "code",
   "execution_count": null,
   "metadata": {},
   "outputs": [],
   "source": [
    "l = 100\n",
    "epochs = 2000\n",
    "\n",
    "def train_model(model, optimizer, X, B, epochs=100, print_every=10, batch_size = 2):\n",
    "    for epoch in range(epochs+1):\n",
    "        y_pred = model(X)\n",
    "        loss = modularity_loss(y_pred, B, l=l)\n",
    "\n",
    "        optimizer.zero_grad()\n",
    "        loss.backward()\n",
    "        optimizer.step()\n",
    "\n",
    "        if epoch % print_every == 0:\n",
    "            print(f'Epoch {epoch:2d}, loss={loss.item():.5f}')\n",
    "\n",
    "B = modularity_matrix(A)\n",
    "optimizer = torch.optim.Adam(gcn.parameters(), lr=0.01)\n",
    "train_model(gcn, optimizer, X, B, epochs=epochs, print_every=100)"
   ]
  },
  {
   "cell_type": "markdown",
   "metadata": {},
   "source": [
    "Evaluate your model using NMI. Since the initialization is random train the model 10 times and take the average NMI. Assign each node to the community with the highest probability. \n",
    "You should obtain an Average $\\text{NMI}\\approx0.5$.\n",
    "\n",
    "Plot the last graph with the nodes colored by commnitieis communities using ```plot_graph``` below. \n",
    "\n",
    "**Note**: You have to create the model 5 times otherwise you are keeping training the same model's parameters! "
   ]
  },
  {
   "cell_type": "code",
   "execution_count": null,
   "metadata": {},
   "outputs": [],
   "source": [
    "from sklearn.metrics.cluster import normalized_mutual_info_score\n",
    "\n",
    "def plot_graph(G, y_pred): \n",
    "    plt.figure(1,figsize=(15,5))\n",
    "    pos = nx.spring_layout(G)\n",
    "    ec = nx.draw_networkx_edges(G, pos, alpha=0.2)\n",
    "    nc = nx.draw_networkx_nodes(G, pos, nodelist=G.nodes(), node_color=y_pred, node_size=100, cmap=plt.cm.jet)\n",
    "    plt.axis('off')\n",
    "    plt.show()\n",
    "\n",
    "\n",
    "    \n",
    "### YOUR CODE STARTS HERE \n",
    "\n",
    "\n",
    "### YOUR CODE ENDS HERE"
   ]
  }
 ],
 "metadata": {
  "kernelspec": {
   "display_name": "Python 3",
   "language": "python",
   "name": "python3"
  },
  "language_info": {
   "codemirror_mode": {
    "name": "ipython",
    "version": 3
   },
   "file_extension": ".py",
   "mimetype": "text/x-python",
   "name": "python",
   "nbconvert_exporter": "python",
   "pygments_lexer": "ipython3",
   "version": "3.8.3"
  },
  "vscode": {
   "interpreter": {
    "hash": "ad2bdc8ecc057115af97d19610ffacc2b4e99fae6737bb82f5d7fb13d2f2c186"
   }
  }
 },
 "nbformat": 4,
 "nbformat_minor": 5
}
